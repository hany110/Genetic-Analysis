{
  "nbformat": 4,
  "nbformat_minor": 0,
  "metadata": {
    "colab": {
      "provenance": [],
      "collapsed_sections": [
        "4tDoJaEkYING"
      ]
    },
    "kernelspec": {
      "name": "python3",
      "display_name": "Python 3"
    },
    "language_info": {
      "name": "python"
    }
  },
  "cells": [
    {
      "cell_type": "markdown",
      "source": [
        "\n",
        "\n",
        "#Download the dataset and merge\n"
      ],
      "metadata": {
        "id": "F3--LFk0b--F"
      }
    },
    {
      "cell_type": "code",
      "source": [
        "#Assuming bulk sequencing and sample from multiple regions of tumor was taken\n",
        "import pandas as pd\n",
        "import numpy as np\n",
        "import matplotlib.pyplot as plt\n",
        "import seaborn as sns"
      ],
      "metadata": {
        "id": "UOcAJTLpIPsO"
      },
      "execution_count": 33,
      "outputs": []
    },
    {
      "cell_type": "code",
      "source": [
        "from zipfile import ZipFile\n",
        "\n",
        "# specifying the zip file name\n",
        "file_name = \"coding_assessment.zip\"\n",
        "\n",
        "# opening the zip file in READ mode\n",
        "with ZipFile(file_name, 'r') as zip:\n",
        "    # printing all the contents of the zip file\n",
        "    zip.printdir()\n",
        "\n",
        "    # extracting all the files\n",
        "    print('Extracting all the files now...')\n",
        "    zip.extractall()\n",
        "    print('Done!')"
      ],
      "metadata": {
        "colab": {
          "base_uri": "https://localhost:8080/",
          "height": 0
        },
        "id": "9olbuD4dAtMx",
        "outputId": "436708ea-e13b-44ea-b284-aa1cf1ebbaa8"
      },
      "execution_count": 34,
      "outputs": [
        {
          "output_type": "stream",
          "name": "stdout",
          "text": [
            "File Name                                             Modified             Size\n",
            "sample-information.tsv                         2019-01-14 10:33:38         3799\n",
            "__MACOSX/                                      2019-01-14 10:39:08            0\n",
            "__MACOSX/._sample-information.tsv              2019-01-14 10:33:38          176\n",
            "mafs/                                          2019-01-14 10:38:58            0\n",
            "mafs/Patient-36.somatic.snvs.maf               2019-01-14 10:33:38        29353\n",
            "mafs/Patient-1.somatic.snvs.maf                2019-01-14 10:33:36        28776\n",
            "mafs/Patient-17.somatic.snvs.maf               2019-01-14 10:33:38        93605\n",
            "mafs/Patient-29.somatic.snvs.maf               2019-01-14 10:33:38        69578\n",
            "mafs/Patient-47.somatic.snvs.maf               2019-01-14 10:33:38        10995\n",
            "mafs/Patient-22.somatic.snvs.maf               2019-01-14 10:33:38        36076\n",
            "mafs/Patient-43.somatic.snvs.maf               2019-01-14 10:33:38        14626\n",
            "mafs/Patient-26.somatic.snvs.maf               2019-01-14 10:33:38        12169\n",
            "mafs/Patient-18.somatic.snvs.maf               2019-01-14 10:33:38        34905\n",
            "mafs/Patient-39.somatic.snvs.maf               2019-01-14 10:33:38        19481\n",
            "mafs/Patient-13.somatic.snvs.maf               2019-01-14 10:33:36         9120\n",
            "mafs/Patient-5.somatic.snvs.maf                2019-01-14 10:33:36        40027\n",
            "mafs/Patient-48.somatic.snvs.maf               2019-01-14 10:33:38        10306\n",
            "mafs/Patient-32.somatic.snvs.maf               2019-01-14 10:33:38        16911\n",
            "mafs/Patient-0.somatic.snvs.maf                2019-01-14 10:33:36        33162\n",
            "mafs/Patient-16.somatic.snvs.maf               2019-01-14 10:33:38        16583\n",
            "mafs/Patient-28.somatic.snvs.maf               2019-01-14 10:33:38        22943\n",
            "mafs/Patient-37.somatic.snvs.maf               2019-01-14 10:33:38       100015\n",
            "mafs/Patient-23.somatic.snvs.maf               2019-01-14 10:33:38        16908\n",
            "mafs/Patient-46.somatic.snvs.maf               2019-01-14 10:33:38        12846\n",
            "mafs/Patient-38.somatic.snvs.maf               2019-01-14 10:33:38        23804\n",
            "mafs/Patient-27.somatic.snvs.maf               2019-01-14 10:33:38        45274\n",
            "mafs/Patient-19.somatic.snvs.maf               2019-01-14 10:33:38        17223\n",
            "mafs/Patient-42.somatic.snvs.maf               2019-01-14 10:33:38        51215\n",
            "mafs/Patient-33.somatic.snvs.maf               2019-01-14 10:33:38        13942\n",
            "mafs/Patient-49.somatic.snvs.maf               2019-01-14 10:33:38        26686\n",
            "mafs/Patient-12.somatic.snvs.maf               2019-01-14 10:33:36        32333\n",
            "mafs/Patient-4.somatic.snvs.maf                2019-01-14 10:33:36        93176\n",
            "mafs/Patient-20.somatic.snvs.maf               2019-01-14 10:33:38        16196\n",
            "mafs/Patient-8.somatic.snvs.maf                2019-01-14 10:33:36        12495\n",
            "mafs/Patient-45.somatic.snvs.maf               2019-01-14 10:33:38        27351\n",
            "mafs/Patient-15.somatic.snvs.maf               2019-01-14 10:33:36        16801\n",
            "mafs/Patient-3.somatic.snvs.maf                2019-01-14 10:33:36        23619\n",
            "mafs/Patient-34.somatic.snvs.maf               2019-01-14 10:33:38        36152\n",
            "mafs/Patient-30.somatic.snvs.maf               2019-01-14 10:33:38        61984\n",
            "mafs/Patient-7.somatic.snvs.maf                2019-01-14 10:33:36        48673\n",
            "mafs/Patient-11.somatic.snvs.maf               2019-01-14 10:33:36        44925\n",
            "mafs/Patient-24.somatic.snvs.maf               2019-01-14 10:33:38       111616\n",
            "mafs/Patient-41.somatic.snvs.maf               2019-01-14 10:33:38        16715\n",
            "mafs/Patient-44.somatic.snvs.maf               2019-01-14 10:33:38        52004\n",
            "mafs/Patient-21.somatic.snvs.maf               2019-01-14 10:33:38         9127\n",
            "__MACOSX/mafs/                                 2019-01-14 10:39:08            0\n",
            "__MACOSX/mafs/._Patient-21.somatic.snvs.maf    2019-01-14 10:33:38          176\n",
            "mafs/Patient-9.somatic.snvs.maf                2019-01-14 10:33:36        19504\n",
            "mafs/Patient-35.somatic.snvs.maf               2019-01-14 10:33:38         6981\n",
            "mafs/Patient-14.somatic.snvs.maf               2019-01-14 10:33:36        14982\n",
            "mafs/Patient-2.somatic.snvs.maf                2019-01-14 10:33:36        13489\n",
            "mafs/Patient-6.somatic.snvs.maf                2019-01-14 10:33:36        29761\n",
            "mafs/Patient-10.somatic.snvs.maf               2019-01-14 10:33:36         1653\n",
            "mafs/Patient-31.somatic.snvs.maf               2019-01-14 10:33:38        33959\n",
            "mafs/Patient-40.somatic.snvs.maf               2019-01-14 10:33:38        29302\n",
            "mafs/Patient-25.somatic.snvs.maf               2019-01-14 10:33:38        24558\n",
            "Extracting all the files now...\n",
            "Done!\n"
          ]
        }
      ]
    },
    {
      "cell_type": "code",
      "source": [],
      "metadata": {
        "id": "k0QCsJGJ2gZo"
      },
      "execution_count": 34,
      "outputs": []
    },
    {
      "cell_type": "code",
      "source": [
        "# Directory containing .maf files\n",
        "import glob\n",
        "\n",
        "# List to store dataframes from each .maf file\n",
        "dfs = []\n",
        "i=0\n",
        "# Iterate through each .maf file in the directory\n",
        "for filename in glob.glob('mafs/*'):\n",
        "    if filename.endswith('.maf'):\n",
        "        # Read .maf file into a dataframe\n",
        "        df = pd.read_csv(filename, sep='\\t', comment='#', low_memory=False)\n",
        "        i+=1\n",
        "        # Append the dataframe to the list\n",
        "\n",
        "        dfs.append(df)\n",
        "\n",
        "\n",
        "# Concatenate dataframes into a single dataframe\n",
        "merged_df = pd.concat(dfs, ignore_index=True)\n",
        "# print(i)\n",
        "# Display the merged dataframe\n",
        "print(merged_df)"
      ],
      "metadata": {
        "colab": {
          "base_uri": "https://localhost:8080/",
          "height": 0
        },
        "id": "qNr7Lu0ZSVY3",
        "outputId": "12430198-b4a9-46ad-b1bd-011d25ceed9d"
      },
      "execution_count": 35,
      "outputs": [
        {
          "output_type": "stream",
          "name": "stdout",
          "text": [
            "      Hugo_Symbol Chromosome  Start_position  End_position  \\\n",
            "0         ANKRD26         10        27382653      27382653   \n",
            "1          ZFYVE9          1        52704470      52704470   \n",
            "2           CMTR2         16        71317697      71317697   \n",
            "3         SLC34A1          5       176823810     176823810   \n",
            "4         MAP3K13          3       185181390     185181390   \n",
            "...           ...        ...             ...           ...   \n",
            "15668        LCAT         16        67974012      67974012   \n",
            "15669    IVNS1ABP          1       185278573     185278573   \n",
            "15670       LIMA1         12        50616193      50616193   \n",
            "15671     CCDC106         19        56160650      56160650   \n",
            "15672     CEACAM5         19        42213660      42213660   \n",
            "\n",
            "      Variant_Classification Variant_Type Reference_Allele Tumor_Seq_Allele1  \\\n",
            "0                     Silent          SNP                G                 G   \n",
            "1          Missense_Mutation          SNP                G                 G   \n",
            "2                     Silent          SNP                C                 C   \n",
            "3                     Silent          SNP                G                 G   \n",
            "4          Missense_Mutation          SNP                G                 G   \n",
            "...                      ...          ...              ...               ...   \n",
            "15668      Missense_Mutation          SNP                G                 G   \n",
            "15669      Missense_Mutation          SNP                G                 G   \n",
            "15670                 Silent          SNP                G                 G   \n",
            "15671                 Silent          SNP                G                 G   \n",
            "15672                 Silent          SNP                G                 G   \n",
            "\n",
            "      Tumor_Seq_Allele2 Tumor_Sample_Barcode Matched_Norm_Sample_Barcode  \\\n",
            "0                     A      Patient-5-Tumor            Patient-5-Normal   \n",
            "1                     A      Patient-5-Tumor            Patient-5-Normal   \n",
            "2                     T      Patient-5-Tumor            Patient-5-Normal   \n",
            "3                     A      Patient-5-Tumor            Patient-5-Normal   \n",
            "4                     A      Patient-5-Tumor            Patient-5-Normal   \n",
            "...                 ...                  ...                         ...   \n",
            "15668                 A     Patient-28-Tumor           Patient-28-Normal   \n",
            "15669                 A     Patient-28-Tumor           Patient-28-Normal   \n",
            "15670                 A     Patient-28-Tumor           Patient-28-Normal   \n",
            "15671                 A     Patient-28-Tumor           Patient-28-Normal   \n",
            "15672                 A     Patient-28-Tumor           Patient-28-Normal   \n",
            "\n",
            "      Protein_Change  t_alt_count  t_ref_count  \n",
            "0            p.L106L            6           61  \n",
            "1            p.D461N            6          125  \n",
            "2            p.L709L            5           41  \n",
            "3            p.Q417Q           25           54  \n",
            "4            p.G444E            5          136  \n",
            "...              ...          ...          ...  \n",
            "15668        p.A373V           13           43  \n",
            "15669         p.S18F           14           72  \n",
            "15670         p.L81L           22          101  \n",
            "15671         p.L37L           12           57  \n",
            "15672         p.P42P           13           78  \n",
            "\n",
            "[15673 rows x 14 columns]\n"
          ]
        }
      ]
    },
    {
      "cell_type": "code",
      "source": [
        "merged_df.head()"
      ],
      "metadata": {
        "colab": {
          "base_uri": "https://localhost:8080/",
          "height": 226
        },
        "id": "ii-VeREnVGau",
        "outputId": "bb4bde5a-30b6-469f-fdb6-073689772516"
      },
      "execution_count": 36,
      "outputs": [
        {
          "output_type": "execute_result",
          "data": {
            "text/plain": [
              "  Hugo_Symbol Chromosome  Start_position  End_position Variant_Classification  \\\n",
              "0     ANKRD26         10        27382653      27382653                 Silent   \n",
              "1      ZFYVE9          1        52704470      52704470      Missense_Mutation   \n",
              "2       CMTR2         16        71317697      71317697                 Silent   \n",
              "3     SLC34A1          5       176823810     176823810                 Silent   \n",
              "4     MAP3K13          3       185181390     185181390      Missense_Mutation   \n",
              "\n",
              "  Variant_Type Reference_Allele Tumor_Seq_Allele1 Tumor_Seq_Allele2  \\\n",
              "0          SNP                G                 G                 A   \n",
              "1          SNP                G                 G                 A   \n",
              "2          SNP                C                 C                 T   \n",
              "3          SNP                G                 G                 A   \n",
              "4          SNP                G                 G                 A   \n",
              "\n",
              "  Tumor_Sample_Barcode Matched_Norm_Sample_Barcode Protein_Change  \\\n",
              "0      Patient-5-Tumor            Patient-5-Normal        p.L106L   \n",
              "1      Patient-5-Tumor            Patient-5-Normal        p.D461N   \n",
              "2      Patient-5-Tumor            Patient-5-Normal        p.L709L   \n",
              "3      Patient-5-Tumor            Patient-5-Normal        p.Q417Q   \n",
              "4      Patient-5-Tumor            Patient-5-Normal        p.G444E   \n",
              "\n",
              "   t_alt_count  t_ref_count  \n",
              "0            6           61  \n",
              "1            6          125  \n",
              "2            5           41  \n",
              "3           25           54  \n",
              "4            5          136  "
            ],
            "text/html": [
              "\n",
              "  <div id=\"df-21903e74-f005-4dc2-95bc-5d2434a43c9f\" class=\"colab-df-container\">\n",
              "    <div>\n",
              "<style scoped>\n",
              "    .dataframe tbody tr th:only-of-type {\n",
              "        vertical-align: middle;\n",
              "    }\n",
              "\n",
              "    .dataframe tbody tr th {\n",
              "        vertical-align: top;\n",
              "    }\n",
              "\n",
              "    .dataframe thead th {\n",
              "        text-align: right;\n",
              "    }\n",
              "</style>\n",
              "<table border=\"1\" class=\"dataframe\">\n",
              "  <thead>\n",
              "    <tr style=\"text-align: right;\">\n",
              "      <th></th>\n",
              "      <th>Hugo_Symbol</th>\n",
              "      <th>Chromosome</th>\n",
              "      <th>Start_position</th>\n",
              "      <th>End_position</th>\n",
              "      <th>Variant_Classification</th>\n",
              "      <th>Variant_Type</th>\n",
              "      <th>Reference_Allele</th>\n",
              "      <th>Tumor_Seq_Allele1</th>\n",
              "      <th>Tumor_Seq_Allele2</th>\n",
              "      <th>Tumor_Sample_Barcode</th>\n",
              "      <th>Matched_Norm_Sample_Barcode</th>\n",
              "      <th>Protein_Change</th>\n",
              "      <th>t_alt_count</th>\n",
              "      <th>t_ref_count</th>\n",
              "    </tr>\n",
              "  </thead>\n",
              "  <tbody>\n",
              "    <tr>\n",
              "      <th>0</th>\n",
              "      <td>ANKRD26</td>\n",
              "      <td>10</td>\n",
              "      <td>27382653</td>\n",
              "      <td>27382653</td>\n",
              "      <td>Silent</td>\n",
              "      <td>SNP</td>\n",
              "      <td>G</td>\n",
              "      <td>G</td>\n",
              "      <td>A</td>\n",
              "      <td>Patient-5-Tumor</td>\n",
              "      <td>Patient-5-Normal</td>\n",
              "      <td>p.L106L</td>\n",
              "      <td>6</td>\n",
              "      <td>61</td>\n",
              "    </tr>\n",
              "    <tr>\n",
              "      <th>1</th>\n",
              "      <td>ZFYVE9</td>\n",
              "      <td>1</td>\n",
              "      <td>52704470</td>\n",
              "      <td>52704470</td>\n",
              "      <td>Missense_Mutation</td>\n",
              "      <td>SNP</td>\n",
              "      <td>G</td>\n",
              "      <td>G</td>\n",
              "      <td>A</td>\n",
              "      <td>Patient-5-Tumor</td>\n",
              "      <td>Patient-5-Normal</td>\n",
              "      <td>p.D461N</td>\n",
              "      <td>6</td>\n",
              "      <td>125</td>\n",
              "    </tr>\n",
              "    <tr>\n",
              "      <th>2</th>\n",
              "      <td>CMTR2</td>\n",
              "      <td>16</td>\n",
              "      <td>71317697</td>\n",
              "      <td>71317697</td>\n",
              "      <td>Silent</td>\n",
              "      <td>SNP</td>\n",
              "      <td>C</td>\n",
              "      <td>C</td>\n",
              "      <td>T</td>\n",
              "      <td>Patient-5-Tumor</td>\n",
              "      <td>Patient-5-Normal</td>\n",
              "      <td>p.L709L</td>\n",
              "      <td>5</td>\n",
              "      <td>41</td>\n",
              "    </tr>\n",
              "    <tr>\n",
              "      <th>3</th>\n",
              "      <td>SLC34A1</td>\n",
              "      <td>5</td>\n",
              "      <td>176823810</td>\n",
              "      <td>176823810</td>\n",
              "      <td>Silent</td>\n",
              "      <td>SNP</td>\n",
              "      <td>G</td>\n",
              "      <td>G</td>\n",
              "      <td>A</td>\n",
              "      <td>Patient-5-Tumor</td>\n",
              "      <td>Patient-5-Normal</td>\n",
              "      <td>p.Q417Q</td>\n",
              "      <td>25</td>\n",
              "      <td>54</td>\n",
              "    </tr>\n",
              "    <tr>\n",
              "      <th>4</th>\n",
              "      <td>MAP3K13</td>\n",
              "      <td>3</td>\n",
              "      <td>185181390</td>\n",
              "      <td>185181390</td>\n",
              "      <td>Missense_Mutation</td>\n",
              "      <td>SNP</td>\n",
              "      <td>G</td>\n",
              "      <td>G</td>\n",
              "      <td>A</td>\n",
              "      <td>Patient-5-Tumor</td>\n",
              "      <td>Patient-5-Normal</td>\n",
              "      <td>p.G444E</td>\n",
              "      <td>5</td>\n",
              "      <td>136</td>\n",
              "    </tr>\n",
              "  </tbody>\n",
              "</table>\n",
              "</div>\n",
              "    <div class=\"colab-df-buttons\">\n",
              "\n",
              "  <div class=\"colab-df-container\">\n",
              "    <button class=\"colab-df-convert\" onclick=\"convertToInteractive('df-21903e74-f005-4dc2-95bc-5d2434a43c9f')\"\n",
              "            title=\"Convert this dataframe to an interactive table.\"\n",
              "            style=\"display:none;\">\n",
              "\n",
              "  <svg xmlns=\"http://www.w3.org/2000/svg\" height=\"24px\" viewBox=\"0 -960 960 960\">\n",
              "    <path d=\"M120-120v-720h720v720H120Zm60-500h600v-160H180v160Zm220 220h160v-160H400v160Zm0 220h160v-160H400v160ZM180-400h160v-160H180v160Zm440 0h160v-160H620v160ZM180-180h160v-160H180v160Zm440 0h160v-160H620v160Z\"/>\n",
              "  </svg>\n",
              "    </button>\n",
              "\n",
              "  <style>\n",
              "    .colab-df-container {\n",
              "      display:flex;\n",
              "      gap: 12px;\n",
              "    }\n",
              "\n",
              "    .colab-df-convert {\n",
              "      background-color: #E8F0FE;\n",
              "      border: none;\n",
              "      border-radius: 50%;\n",
              "      cursor: pointer;\n",
              "      display: none;\n",
              "      fill: #1967D2;\n",
              "      height: 32px;\n",
              "      padding: 0 0 0 0;\n",
              "      width: 32px;\n",
              "    }\n",
              "\n",
              "    .colab-df-convert:hover {\n",
              "      background-color: #E2EBFA;\n",
              "      box-shadow: 0px 1px 2px rgba(60, 64, 67, 0.3), 0px 1px 3px 1px rgba(60, 64, 67, 0.15);\n",
              "      fill: #174EA6;\n",
              "    }\n",
              "\n",
              "    .colab-df-buttons div {\n",
              "      margin-bottom: 4px;\n",
              "    }\n",
              "\n",
              "    [theme=dark] .colab-df-convert {\n",
              "      background-color: #3B4455;\n",
              "      fill: #D2E3FC;\n",
              "    }\n",
              "\n",
              "    [theme=dark] .colab-df-convert:hover {\n",
              "      background-color: #434B5C;\n",
              "      box-shadow: 0px 1px 3px 1px rgba(0, 0, 0, 0.15);\n",
              "      filter: drop-shadow(0px 1px 2px rgba(0, 0, 0, 0.3));\n",
              "      fill: #FFFFFF;\n",
              "    }\n",
              "  </style>\n",
              "\n",
              "    <script>\n",
              "      const buttonEl =\n",
              "        document.querySelector('#df-21903e74-f005-4dc2-95bc-5d2434a43c9f button.colab-df-convert');\n",
              "      buttonEl.style.display =\n",
              "        google.colab.kernel.accessAllowed ? 'block' : 'none';\n",
              "\n",
              "      async function convertToInteractive(key) {\n",
              "        const element = document.querySelector('#df-21903e74-f005-4dc2-95bc-5d2434a43c9f');\n",
              "        const dataTable =\n",
              "          await google.colab.kernel.invokeFunction('convertToInteractive',\n",
              "                                                    [key], {});\n",
              "        if (!dataTable) return;\n",
              "\n",
              "        const docLinkHtml = 'Like what you see? Visit the ' +\n",
              "          '<a target=\"_blank\" href=https://colab.research.google.com/notebooks/data_table.ipynb>data table notebook</a>'\n",
              "          + ' to learn more about interactive tables.';\n",
              "        element.innerHTML = '';\n",
              "        dataTable['output_type'] = 'display_data';\n",
              "        await google.colab.output.renderOutput(dataTable, element);\n",
              "        const docLink = document.createElement('div');\n",
              "        docLink.innerHTML = docLinkHtml;\n",
              "        element.appendChild(docLink);\n",
              "      }\n",
              "    </script>\n",
              "  </div>\n",
              "\n",
              "\n",
              "<div id=\"df-d6fb19f7-442c-423f-a9e3-32b2ac49dcfa\">\n",
              "  <button class=\"colab-df-quickchart\" onclick=\"quickchart('df-d6fb19f7-442c-423f-a9e3-32b2ac49dcfa')\"\n",
              "            title=\"Suggest charts\"\n",
              "            style=\"display:none;\">\n",
              "\n",
              "<svg xmlns=\"http://www.w3.org/2000/svg\" height=\"24px\"viewBox=\"0 0 24 24\"\n",
              "     width=\"24px\">\n",
              "    <g>\n",
              "        <path d=\"M19 3H5c-1.1 0-2 .9-2 2v14c0 1.1.9 2 2 2h14c1.1 0 2-.9 2-2V5c0-1.1-.9-2-2-2zM9 17H7v-7h2v7zm4 0h-2V7h2v10zm4 0h-2v-4h2v4z\"/>\n",
              "    </g>\n",
              "</svg>\n",
              "  </button>\n",
              "\n",
              "<style>\n",
              "  .colab-df-quickchart {\n",
              "      --bg-color: #E8F0FE;\n",
              "      --fill-color: #1967D2;\n",
              "      --hover-bg-color: #E2EBFA;\n",
              "      --hover-fill-color: #174EA6;\n",
              "      --disabled-fill-color: #AAA;\n",
              "      --disabled-bg-color: #DDD;\n",
              "  }\n",
              "\n",
              "  [theme=dark] .colab-df-quickchart {\n",
              "      --bg-color: #3B4455;\n",
              "      --fill-color: #D2E3FC;\n",
              "      --hover-bg-color: #434B5C;\n",
              "      --hover-fill-color: #FFFFFF;\n",
              "      --disabled-bg-color: #3B4455;\n",
              "      --disabled-fill-color: #666;\n",
              "  }\n",
              "\n",
              "  .colab-df-quickchart {\n",
              "    background-color: var(--bg-color);\n",
              "    border: none;\n",
              "    border-radius: 50%;\n",
              "    cursor: pointer;\n",
              "    display: none;\n",
              "    fill: var(--fill-color);\n",
              "    height: 32px;\n",
              "    padding: 0;\n",
              "    width: 32px;\n",
              "  }\n",
              "\n",
              "  .colab-df-quickchart:hover {\n",
              "    background-color: var(--hover-bg-color);\n",
              "    box-shadow: 0 1px 2px rgba(60, 64, 67, 0.3), 0 1px 3px 1px rgba(60, 64, 67, 0.15);\n",
              "    fill: var(--button-hover-fill-color);\n",
              "  }\n",
              "\n",
              "  .colab-df-quickchart-complete:disabled,\n",
              "  .colab-df-quickchart-complete:disabled:hover {\n",
              "    background-color: var(--disabled-bg-color);\n",
              "    fill: var(--disabled-fill-color);\n",
              "    box-shadow: none;\n",
              "  }\n",
              "\n",
              "  .colab-df-spinner {\n",
              "    border: 2px solid var(--fill-color);\n",
              "    border-color: transparent;\n",
              "    border-bottom-color: var(--fill-color);\n",
              "    animation:\n",
              "      spin 1s steps(1) infinite;\n",
              "  }\n",
              "\n",
              "  @keyframes spin {\n",
              "    0% {\n",
              "      border-color: transparent;\n",
              "      border-bottom-color: var(--fill-color);\n",
              "      border-left-color: var(--fill-color);\n",
              "    }\n",
              "    20% {\n",
              "      border-color: transparent;\n",
              "      border-left-color: var(--fill-color);\n",
              "      border-top-color: var(--fill-color);\n",
              "    }\n",
              "    30% {\n",
              "      border-color: transparent;\n",
              "      border-left-color: var(--fill-color);\n",
              "      border-top-color: var(--fill-color);\n",
              "      border-right-color: var(--fill-color);\n",
              "    }\n",
              "    40% {\n",
              "      border-color: transparent;\n",
              "      border-right-color: var(--fill-color);\n",
              "      border-top-color: var(--fill-color);\n",
              "    }\n",
              "    60% {\n",
              "      border-color: transparent;\n",
              "      border-right-color: var(--fill-color);\n",
              "    }\n",
              "    80% {\n",
              "      border-color: transparent;\n",
              "      border-right-color: var(--fill-color);\n",
              "      border-bottom-color: var(--fill-color);\n",
              "    }\n",
              "    90% {\n",
              "      border-color: transparent;\n",
              "      border-bottom-color: var(--fill-color);\n",
              "    }\n",
              "  }\n",
              "</style>\n",
              "\n",
              "  <script>\n",
              "    async function quickchart(key) {\n",
              "      const quickchartButtonEl =\n",
              "        document.querySelector('#' + key + ' button');\n",
              "      quickchartButtonEl.disabled = true;  // To prevent multiple clicks.\n",
              "      quickchartButtonEl.classList.add('colab-df-spinner');\n",
              "      try {\n",
              "        const charts = await google.colab.kernel.invokeFunction(\n",
              "            'suggestCharts', [key], {});\n",
              "      } catch (error) {\n",
              "        console.error('Error during call to suggestCharts:', error);\n",
              "      }\n",
              "      quickchartButtonEl.classList.remove('colab-df-spinner');\n",
              "      quickchartButtonEl.classList.add('colab-df-quickchart-complete');\n",
              "    }\n",
              "    (() => {\n",
              "      let quickchartButtonEl =\n",
              "        document.querySelector('#df-d6fb19f7-442c-423f-a9e3-32b2ac49dcfa button');\n",
              "      quickchartButtonEl.style.display =\n",
              "        google.colab.kernel.accessAllowed ? 'block' : 'none';\n",
              "    })();\n",
              "  </script>\n",
              "</div>\n",
              "\n",
              "    </div>\n",
              "  </div>\n"
            ]
          },
          "metadata": {},
          "execution_count": 36
        }
      ]
    },
    {
      "cell_type": "code",
      "source": [
        "merged_df.info()\n",
        "#we know that\n",
        "#the last two columns Read depth supporting the reference and variant allele"
      ],
      "metadata": {
        "colab": {
          "base_uri": "https://localhost:8080/",
          "height": 0
        },
        "id": "4b6ch_ZEUkTs",
        "outputId": "5c9258c7-8592-455f-b19a-2307a1f21c9a"
      },
      "execution_count": 37,
      "outputs": [
        {
          "output_type": "stream",
          "name": "stdout",
          "text": [
            "<class 'pandas.core.frame.DataFrame'>\n",
            "RangeIndex: 15673 entries, 0 to 15672\n",
            "Data columns (total 14 columns):\n",
            " #   Column                       Non-Null Count  Dtype \n",
            "---  ------                       --------------  ----- \n",
            " 0   Hugo_Symbol                  15673 non-null  object\n",
            " 1   Chromosome                   15673 non-null  object\n",
            " 2   Start_position               15673 non-null  int64 \n",
            " 3   End_position                 15673 non-null  int64 \n",
            " 4   Variant_Classification       15673 non-null  object\n",
            " 5   Variant_Type                 15673 non-null  object\n",
            " 6   Reference_Allele             15673 non-null  object\n",
            " 7   Tumor_Seq_Allele1            15673 non-null  object\n",
            " 8   Tumor_Seq_Allele2            15673 non-null  object\n",
            " 9   Tumor_Sample_Barcode         15673 non-null  object\n",
            " 10  Matched_Norm_Sample_Barcode  15673 non-null  object\n",
            " 11  Protein_Change               15464 non-null  object\n",
            " 12  t_alt_count                  15673 non-null  int64 \n",
            " 13  t_ref_count                  15673 non-null  int64 \n",
            "dtypes: int64(4), object(10)\n",
            "memory usage: 1.7+ MB\n"
          ]
        }
      ]
    },
    {
      "cell_type": "code",
      "source": [
        "merged_df.t_alt_count.describe() #minimum is low"
      ],
      "metadata": {
        "colab": {
          "base_uri": "https://localhost:8080/",
          "height": 0
        },
        "id": "k8j7otfws1qB",
        "outputId": "ef757179-6dc5-4497-df7a-17b28c7f3780"
      },
      "execution_count": 38,
      "outputs": [
        {
          "output_type": "execute_result",
          "data": {
            "text/plain": [
              "count    15673.000000\n",
              "mean        19.671792\n",
              "std         22.306744\n",
              "min          2.000000\n",
              "25%          7.000000\n",
              "50%         13.000000\n",
              "75%         25.000000\n",
              "max        503.000000\n",
              "Name: t_alt_count, dtype: float64"
            ]
          },
          "metadata": {},
          "execution_count": 38
        }
      ]
    },
    {
      "cell_type": "code",
      "source": [
        "merged_df.t_ref_count.describe()\n",
        "#Maybe we should be filtering these out but depending on our situation."
      ],
      "metadata": {
        "colab": {
          "base_uri": "https://localhost:8080/",
          "height": 0
        },
        "id": "_seCIAsNtQHH",
        "outputId": "ae54d075-5d12-4dce-df5f-00faba294bdb"
      },
      "execution_count": 39,
      "outputs": [
        {
          "output_type": "execute_result",
          "data": {
            "text/plain": [
              "count    15673.000000\n",
              "mean        87.602374\n",
              "std         85.678126\n",
              "min          0.000000\n",
              "25%         34.000000\n",
              "50%         64.000000\n",
              "75%        114.000000\n",
              "max       1383.000000\n",
              "Name: t_ref_count, dtype: float64"
            ]
          },
          "metadata": {},
          "execution_count": 39
        }
      ]
    },
    {
      "cell_type": "code",
      "source": [
        "#We could also calculate VAF and filter further if needed....\n",
        "\n",
        "# merged_df = merged_df[(merged_df['t_ref_count']>4) & (merged_df['t_alt_count']>4)]"
      ],
      "metadata": {
        "id": "rkQE8GS3uIoR"
      },
      "execution_count": 40,
      "outputs": []
    },
    {
      "cell_type": "code",
      "source": [
        "merged_df.nunique() #No. of Unique values in all features"
      ],
      "metadata": {
        "colab": {
          "base_uri": "https://localhost:8080/",
          "height": 0
        },
        "id": "-Y1W-FnjU3sF",
        "outputId": "456eb807-680d-4533-85df-05cd894eda8d"
      },
      "execution_count": 41,
      "outputs": [
        {
          "output_type": "execute_result",
          "data": {
            "text/plain": [
              "Hugo_Symbol                     8612\n",
              "Chromosome                        47\n",
              "Start_position                 15459\n",
              "End_position                   15459\n",
              "Variant_Classification             4\n",
              "Variant_Type                       1\n",
              "Reference_Allele                   4\n",
              "Tumor_Seq_Allele1                  4\n",
              "Tumor_Seq_Allele2                  4\n",
              "Tumor_Sample_Barcode              50\n",
              "Matched_Norm_Sample_Barcode       50\n",
              "Protein_Change                 12997\n",
              "t_alt_count                      187\n",
              "t_ref_count                      514\n",
              "dtype: int64"
            ]
          },
          "metadata": {},
          "execution_count": 41
        }
      ]
    },
    {
      "cell_type": "code",
      "source": [
        "merged_df['Variant_Classification'].unique()"
      ],
      "metadata": {
        "colab": {
          "base_uri": "https://localhost:8080/",
          "height": 0
        },
        "id": "hduIjLgIU3uz",
        "outputId": "29f1cc2b-8133-4def-de8d-51617a58decc"
      },
      "execution_count": 42,
      "outputs": [
        {
          "output_type": "execute_result",
          "data": {
            "text/plain": [
              "array(['Silent', 'Missense_Mutation', 'Nonsense_Mutation', 'Splice_Site'],\n",
              "      dtype=object)"
            ]
          },
          "metadata": {},
          "execution_count": 42
        }
      ]
    },
    {
      "cell_type": "code",
      "source": [
        "merged_df['Chromosome'].unique() # MT Chromosome -> mitochondria"
      ],
      "metadata": {
        "colab": {
          "base_uri": "https://localhost:8080/",
          "height": 0
        },
        "id": "lF-LvdszU3xA",
        "outputId": "6a05e5ab-7ae2-4bb8-c6d6-8c969237d6a0"
      },
      "execution_count": 43,
      "outputs": [
        {
          "output_type": "execute_result",
          "data": {
            "text/plain": [
              "array(['10', '1', '16', '5', '3', '2', '21', '20', '6', '8', '11', '4',\n",
              "       '17', '19', '7', '9', '15', '12', 'X', '22', '14', 'Y', '13', '18',\n",
              "       16, 22, 10, 1, 19, 17, 3, 12, 4, 2, 11, 14, 6, 9, 21, 5, 15, 7, 20,\n",
              "       13, 8, 18, 'MT'], dtype=object)"
            ]
          },
          "metadata": {},
          "execution_count": 43
        }
      ]
    },
    {
      "cell_type": "markdown",
      "source": [
        "#Subset for mutations that are not of the Variant Classification “Silent”"
      ],
      "metadata": {
        "id": "jNVhWWhTb6Vr"
      }
    },
    {
      "cell_type": "code",
      "source": [
        "filtered_df = merged_df[merged_df['Variant_Classification'] != 'Silent']"
      ],
      "metadata": {
        "id": "h7ts6uiXWAdq"
      },
      "execution_count": 44,
      "outputs": []
    },
    {
      "cell_type": "code",
      "source": [
        "filtered_df['Variant_Classification'].unique()"
      ],
      "metadata": {
        "colab": {
          "base_uri": "https://localhost:8080/",
          "height": 0
        },
        "id": "ISuKEH4dWAgZ",
        "outputId": "8cb38ff4-8223-4b18-85eb-61af7d41ea5f"
      },
      "execution_count": 45,
      "outputs": [
        {
          "output_type": "execute_result",
          "data": {
            "text/plain": [
              "array(['Missense_Mutation', 'Nonsense_Mutation', 'Splice_Site'],\n",
              "      dtype=object)"
            ]
          },
          "metadata": {},
          "execution_count": 45
        }
      ]
    },
    {
      "cell_type": "code",
      "source": [
        "filtered_df.info()"
      ],
      "metadata": {
        "colab": {
          "base_uri": "https://localhost:8080/",
          "height": 0
        },
        "id": "9frCcDxaWAlS",
        "outputId": "1cc3a42f-7d1d-4959-bdec-7932d232dee5"
      },
      "execution_count": 46,
      "outputs": [
        {
          "output_type": "stream",
          "name": "stdout",
          "text": [
            "<class 'pandas.core.frame.DataFrame'>\n",
            "Int64Index: 11247 entries, 1 to 15669\n",
            "Data columns (total 14 columns):\n",
            " #   Column                       Non-Null Count  Dtype \n",
            "---  ------                       --------------  ----- \n",
            " 0   Hugo_Symbol                  11247 non-null  object\n",
            " 1   Chromosome                   11247 non-null  object\n",
            " 2   Start_position               11247 non-null  int64 \n",
            " 3   End_position                 11247 non-null  int64 \n",
            " 4   Variant_Classification       11247 non-null  object\n",
            " 5   Variant_Type                 11247 non-null  object\n",
            " 6   Reference_Allele             11247 non-null  object\n",
            " 7   Tumor_Seq_Allele1            11247 non-null  object\n",
            " 8   Tumor_Seq_Allele2            11247 non-null  object\n",
            " 9   Tumor_Sample_Barcode         11247 non-null  object\n",
            " 10  Matched_Norm_Sample_Barcode  11247 non-null  object\n",
            " 11  Protein_Change               11038 non-null  object\n",
            " 12  t_alt_count                  11247 non-null  int64 \n",
            " 13  t_ref_count                  11247 non-null  int64 \n",
            "dtypes: int64(4), object(10)\n",
            "memory usage: 1.3+ MB\n"
          ]
        }
      ]
    },
    {
      "cell_type": "code",
      "source": [
        "filtered_df.isna().sum(axis=0) # There are 209 NaN values....\n",
        "#If needed, we can spend more time based on our data and try to estimate what they may be"
      ],
      "metadata": {
        "colab": {
          "base_uri": "https://localhost:8080/",
          "height": 0
        },
        "id": "jrAD9cLOjNq3",
        "outputId": "af27af56-2c7b-4f6b-ba80-bc56803d8272"
      },
      "execution_count": 47,
      "outputs": [
        {
          "output_type": "execute_result",
          "data": {
            "text/plain": [
              "Hugo_Symbol                      0\n",
              "Chromosome                       0\n",
              "Start_position                   0\n",
              "End_position                     0\n",
              "Variant_Classification           0\n",
              "Variant_Type                     0\n",
              "Reference_Allele                 0\n",
              "Tumor_Seq_Allele1                0\n",
              "Tumor_Seq_Allele2                0\n",
              "Tumor_Sample_Barcode             0\n",
              "Matched_Norm_Sample_Barcode      0\n",
              "Protein_Change                 209\n",
              "t_alt_count                      0\n",
              "t_ref_count                      0\n",
              "dtype: int64"
            ]
          },
          "metadata": {},
          "execution_count": 47
        }
      ]
    },
    {
      "cell_type": "code",
      "source": [
        "filtered_df = filtered_df.dropna()\n",
        "filtered_df['Protein_Change'].isna().sum(axis=0)"
      ],
      "metadata": {
        "colab": {
          "base_uri": "https://localhost:8080/",
          "height": 0
        },
        "id": "b8v4Ku3hjk-j",
        "outputId": "e3b14b1a-16bf-44cf-a82c-24348ad33fca"
      },
      "execution_count": 48,
      "outputs": [
        {
          "output_type": "execute_result",
          "data": {
            "text/plain": [
              "0"
            ]
          },
          "metadata": {},
          "execution_count": 48
        }
      ]
    },
    {
      "cell_type": "code",
      "source": [
        "filtered_df.nunique()"
      ],
      "metadata": {
        "colab": {
          "base_uri": "https://localhost:8080/",
          "height": 0
        },
        "id": "iHRxYMbeiwUi",
        "outputId": "dabadcc5-0f4f-4b33-a348-792b1ec81637"
      },
      "execution_count": 49,
      "outputs": [
        {
          "output_type": "execute_result",
          "data": {
            "text/plain": [
              "Hugo_Symbol                     6834\n",
              "Chromosome                        46\n",
              "Start_position                 10873\n",
              "End_position                   10873\n",
              "Variant_Classification             3\n",
              "Variant_Type                       1\n",
              "Reference_Allele                   4\n",
              "Tumor_Seq_Allele1                  4\n",
              "Tumor_Seq_Allele2                  4\n",
              "Tumor_Sample_Barcode              50\n",
              "Matched_Norm_Sample_Barcode       50\n",
              "Protein_Change                  9563\n",
              "t_alt_count                      161\n",
              "t_ref_count                      479\n",
              "dtype: int64"
            ]
          },
          "metadata": {},
          "execution_count": 49
        }
      ]
    },
    {
      "cell_type": "markdown",
      "source": [
        "#Find the 15 most common mutations\n",
        "* Most commonly mutated genes based on all mutations combined from samples\n",
        "\n",
        "* Most commonly mutated proteins across all mutations combined from samples\n",
        "\n",
        "* We could calculate the most mutated genes per patient per group\n",
        "\n",
        "* We could extend to most common mutated genes and the associated mutated proteins"
      ],
      "metadata": {
        "id": "eEn4zL67lnDh"
      }
    },
    {
      "cell_type": "code",
      "source": [
        "top_15_protein_mutation = filtered_df['Protein_Change'].value_counts().head(15).index.tolist()\n",
        "top_15_protein_mutation"
      ],
      "metadata": {
        "colab": {
          "base_uri": "https://localhost:8080/",
          "height": 0
        },
        "id": "Tz2gedbZduQy",
        "outputId": "847565ac-a05a-4979-8559-8d219d119d06"
      },
      "execution_count": 50,
      "outputs": [
        {
          "output_type": "execute_result",
          "data": {
            "text/plain": [
              "['p.S1289A',\n",
              " 'p.E545K',\n",
              " 'p.S57L',\n",
              " 'p.E301K',\n",
              " 'p.E70K',\n",
              " 'p.E338K',\n",
              " 'p.E352K',\n",
              " 'p.E53K',\n",
              " 'p.I97M',\n",
              " 'p.S330F',\n",
              " 'p.E315K',\n",
              " 'p.S109L',\n",
              " 'p.E29K',\n",
              " 'p.E109K',\n",
              " 'p.D64N']"
            ]
          },
          "metadata": {},
          "execution_count": 50
        }
      ]
    },
    {
      "cell_type": "code",
      "source": [
        "filtered_df['Hugo_Symbol'].value_counts().head(15).plot(ylabel = 'Counts', xlabel = 'Gene')"
      ],
      "metadata": {
        "colab": {
          "base_uri": "https://localhost:8080/",
          "height": 466
        },
        "id": "XBXbqJtDpr_2",
        "outputId": "825678c8-1949-4829-fe47-dc81df0943b0"
      },
      "execution_count": 51,
      "outputs": [
        {
          "output_type": "execute_result",
          "data": {
            "text/plain": [
              "<Axes: xlabel='Gene', ylabel='Counts'>"
            ]
          },
          "metadata": {},
          "execution_count": 51
        },
        {
          "output_type": "display_data",
          "data": {
            "text/plain": [
              "<Figure size 640x480 with 1 Axes>"
            ],
            "image/png": "[encoded data removed]"
          },
          "metadata": {}
        }
      ]
    },
    {
      "cell_type": "code",
      "source": [
        "#Here we calculate the top 15 genes based with most mutations with individual patient bias\n",
        "top_15_gene_mutation = filtered_df['Hugo_Symbol'].value_counts().head(15).index.tolist()\n",
        "print(top_15_gene_mutation)"
      ],
      "metadata": {
        "colab": {
          "base_uri": "https://localhost:8080/",
          "height": 0
        },
        "id": "p5RZFnEeggTz",
        "outputId": "ba052d0a-52fb-4e05-8dec-381516cfbb67"
      },
      "execution_count": 52,
      "outputs": [
        {
          "output_type": "stream",
          "name": "stdout",
          "text": [
            "['TTN', 'TP53', 'ERBB4', 'MUC16', 'SPEN', 'KMT2C', 'KMT2D', 'ERBB3', 'FRG1B', 'ZNF91', 'DST', 'SYNE1', 'ZNF208', 'TYRO3', 'FAT4']\n"
          ]
        }
      ]
    },
    {
      "cell_type": "code",
      "source": [
        "#Here we calculate the top 15 genes based removing individual patient bias\n",
        "#The 5 genes SPEN, KMT2C, ZNF91, DST, TYRO3 are dominant in certain groups of patients\n",
        "#and should be further evaluated\n",
        "\n",
        "top_15_gene_mutation = filtered_df.drop_duplicates(['Tumor_Sample_Barcode','Hugo_Symbol'])['Hugo_Symbol'].value_counts().head(15).index.tolist()\n",
        "print(top_15_gene_mutation)"
      ],
      "metadata": {
        "colab": {
          "base_uri": "https://localhost:8080/",
          "height": 0
        },
        "id": "d3cRNvztf8SD",
        "outputId": "7f3ceacf-a629-4176-894e-0a7ade66778c"
      },
      "execution_count": 53,
      "outputs": [
        {
          "output_type": "stream",
          "name": "stdout",
          "text": [
            "['TTN', 'TP53', 'MUC16', 'ERBB4', 'KMT2D', 'ERBB3', 'FRG1B', 'ZNF208', 'ERCC2', 'PIK3CA', 'FAT4', 'SYNE1', 'RB1', 'ZNF844', 'PDE4DIP']\n"
          ]
        }
      ]
    },
    {
      "cell_type": "markdown",
      "source": [
        "**We could further Analyze if there are some common proteins among top genes\n",
        "\n",
        "**We could further analyze to which patient they belong, in both responders and non-responders"
      ],
      "metadata": {
        "id": "1GojgJ55DQIG"
      }
    },
    {
      "cell_type": "code",
      "source": [
        "# df_a = filtered_df[filtered_df['Hugo_Symbol'].isin(top_15_gene_mutation)]\n",
        "# df_a"
      ],
      "metadata": {
        "id": "W2AseEIGmxMF"
      },
      "execution_count": 54,
      "outputs": []
    },
    {
      "cell_type": "code",
      "source": [
        "#Checking if any unknowns are in symbol...\n",
        "\n",
        "filtered_df[filtered_df['Hugo_Symbol']=='Unknown'].value_counts()"
      ],
      "metadata": {
        "colab": {
          "base_uri": "https://localhost:8080/",
          "height": 0
        },
        "id": "kyohSiJErRlb",
        "outputId": "5018275f-9243-47a8-b9e8-eda5398e3aa2"
      },
      "execution_count": 55,
      "outputs": [
        {
          "output_type": "execute_result",
          "data": {
            "text/plain": [
              "Series([], dtype: int64)"
            ]
          },
          "metadata": {},
          "execution_count": 55
        }
      ]
    },
    {
      "cell_type": "code",
      "source": [
        "# col = ['Hugo_Symbol','Protein_Change']\n",
        "# df = filtered_df[col]\n",
        "# df['Mutations_Protein_wise'] = df['Protein_Change'].value_counts().to_frame()\n",
        "# df.head()"
      ],
      "metadata": {
        "id": "bk8rgawgeG5y"
      },
      "execution_count": 56,
      "outputs": []
    },
    {
      "cell_type": "code",
      "source": [
        "\n",
        "# # Change code a bit for plotting if needed\n",
        "\n",
        "# x_column = 'Hugo_Symbol'\n",
        "# y_column = 'Protein_Change'\n",
        "\n",
        "# # Plot the lines\n",
        "# plt.figure(figsize=(10, 6))\n",
        "# plt.plot(filtered_df[x_column], filtered_df[y_column], label='Most common AA mutations', marker='o')\n",
        "\n",
        "# # Add labels and title\n",
        "# plt.xlabel('Patient ID')\n",
        "# plt.ylabel('Mutations per Mb')\n",
        "# plt.title('Line Plot of Mutations per Mb for Silent and Nonsynonymous Mutations')\n",
        "# plt.legend()\n",
        "# plt.grid(True)\n",
        "\n",
        "# # Show the plot\n",
        "# plt.show()"
      ],
      "metadata": {
        "id": "5GH0m4UVWAnz"
      },
      "execution_count": 57,
      "outputs": []
    },
    {
      "cell_type": "code",
      "source": [],
      "metadata": {
        "id": "wbdzvq51XRTn"
      },
      "execution_count": 57,
      "outputs": []
    },
    {
      "cell_type": "code",
      "source": [],
      "metadata": {
        "id": "ATh-K9adXRWf"
      },
      "execution_count": 57,
      "outputs": []
    },
    {
      "cell_type": "code",
      "source": [],
      "metadata": {
        "id": "fz_AqxYHLRvu"
      },
      "execution_count": 57,
      "outputs": []
    },
    {
      "cell_type": "code",
      "source": [],
      "metadata": {
        "id": "GwuG4tGnLRyi"
      },
      "execution_count": 57,
      "outputs": []
    },
    {
      "cell_type": "code",
      "source": [],
      "metadata": {
        "id": "vfhQtRv1LR0t"
      },
      "execution_count": 57,
      "outputs": []
    },
    {
      "cell_type": "markdown",
      "source": [
        "#Perform a statistical test to explore if any mutated genes are enriched in patients who either responded or not.\n",
        "\n",
        "*Erichment comparison between Responders and Non-responders\n",
        "\n",
        "* This can be done at gene level with atleast a single mutation present in Response or Non-response patients.\n",
        "\n",
        "* We might be able to add some weightage to consider number of mutations level present in each gene in Response or Non-response patients."
      ],
      "metadata": {
        "id": "3Womx99R7wR-"
      }
    },
    {
      "cell_type": "code",
      "source": [],
      "metadata": {
        "id": "uF-jTTsqXRZF"
      },
      "execution_count": 57,
      "outputs": []
    },
    {
      "cell_type": "code",
      "source": [
        "# Path to the sample information file\n",
        "path = '/content/sample-information.tsv'\n",
        "\n",
        "# Read the sample information into a DataFrame\n",
        "df1 = pd.read_csv(path, sep='\\t')\n",
        "\n",
        "# Display the first few rows of the DataFrame\n",
        "print(df1.head())"
      ],
      "metadata": {
        "id": "IBnRgY31AtT0",
        "colab": {
          "base_uri": "https://localhost:8080/",
          "height": 0
        },
        "outputId": "30586edf-192f-49e5-8c04-d7a3995f47cc"
      },
      "execution_count": 58,
      "outputs": [
        {
          "output_type": "stream",
          "name": "stdout",
          "text": [
            "  Patient_ID Tumor_Sample_Barcode Matched_Norm_Sample_Barcode       Response  \\\n",
            "0  Patient-0      Patient-0-Tumor            Patient-0-Normal  Non-Responder   \n",
            "1  Patient-1      Patient-1-Tumor            Patient-1-Normal      Responder   \n",
            "2  Patient-2      Patient-2-Tumor            Patient-2-Normal      Responder   \n",
            "3  Patient-3      Patient-3-Tumor            Patient-3-Normal  Non-Responder   \n",
            "4  Patient-4      Patient-4-Tumor            Patient-4-Normal      Responder   \n",
            "\n",
            "   Silent_mutations_per_Mb  Nonsynonymous_mutations_per_Mb  Mutations_per_Mb  \n",
            "0                     2.87                            6.77              9.64  \n",
            "1                     1.92                            6.14              8.06  \n",
            "2                     1.32                            2.84              4.16  \n",
            "3                     1.78                            5.00              6.78  \n",
            "4                     4.93                           10.50             15.43  \n"
          ]
        }
      ]
    },
    {
      "cell_type": "code",
      "source": [
        "df1.info()"
      ],
      "metadata": {
        "id": "7nrUnHHRAtWt",
        "colab": {
          "base_uri": "https://localhost:8080/",
          "height": 0
        },
        "outputId": "45cb72bb-7f91-40fa-abe1-4a5045466881"
      },
      "execution_count": 59,
      "outputs": [
        {
          "output_type": "stream",
          "name": "stdout",
          "text": [
            "<class 'pandas.core.frame.DataFrame'>\n",
            "RangeIndex: 50 entries, 0 to 49\n",
            "Data columns (total 7 columns):\n",
            " #   Column                          Non-Null Count  Dtype  \n",
            "---  ------                          --------------  -----  \n",
            " 0   Patient_ID                      50 non-null     object \n",
            " 1   Tumor_Sample_Barcode            50 non-null     object \n",
            " 2   Matched_Norm_Sample_Barcode     50 non-null     object \n",
            " 3   Response                        50 non-null     object \n",
            " 4   Silent_mutations_per_Mb         50 non-null     float64\n",
            " 5   Nonsynonymous_mutations_per_Mb  50 non-null     float64\n",
            " 6   Mutations_per_Mb                50 non-null     float64\n",
            "dtypes: float64(3), object(4)\n",
            "memory usage: 2.9+ KB\n"
          ]
        }
      ]
    },
    {
      "cell_type": "code",
      "source": [
        "df1.head()"
      ],
      "metadata": {
        "colab": {
          "base_uri": "https://localhost:8080/",
          "height": 206
        },
        "id": "Kc7YCJ-ZBcSf",
        "outputId": "d0789e28-8283-487c-c711-c7c1ded6483e"
      },
      "execution_count": 60,
      "outputs": [
        {
          "output_type": "execute_result",
          "data": {
            "text/plain": [
              "  Patient_ID Tumor_Sample_Barcode Matched_Norm_Sample_Barcode       Response  \\\n",
              "0  Patient-0      Patient-0-Tumor            Patient-0-Normal  Non-Responder   \n",
              "1  Patient-1      Patient-1-Tumor            Patient-1-Normal      Responder   \n",
              "2  Patient-2      Patient-2-Tumor            Patient-2-Normal      Responder   \n",
              "3  Patient-3      Patient-3-Tumor            Patient-3-Normal  Non-Responder   \n",
              "4  Patient-4      Patient-4-Tumor            Patient-4-Normal      Responder   \n",
              "\n",
              "   Silent_mutations_per_Mb  Nonsynonymous_mutations_per_Mb  Mutations_per_Mb  \n",
              "0                     2.87                            6.77              9.64  \n",
              "1                     1.92                            6.14              8.06  \n",
              "2                     1.32                            2.84              4.16  \n",
              "3                     1.78                            5.00              6.78  \n",
              "4                     4.93                           10.50             15.43  "
            ],
            "text/html": [
              "\n",
              "  <div id=\"df-4149a148-856a-4eed-b9f9-43dfc6b81667\" class=\"colab-df-container\">\n",
              "    <div>\n",
              "<style scoped>\n",
              "    .dataframe tbody tr th:only-of-type {\n",
              "        vertical-align: middle;\n",
              "    }\n",
              "\n",
              "    .dataframe tbody tr th {\n",
              "        vertical-align: top;\n",
              "    }\n",
              "\n",
              "    .dataframe thead th {\n",
              "        text-align: right;\n",
              "    }\n",
              "</style>\n",
              "<table border=\"1\" class=\"dataframe\">\n",
              "  <thead>\n",
              "    <tr style=\"text-align: right;\">\n",
              "      <th></th>\n",
              "      <th>Patient_ID</th>\n",
              "      <th>Tumor_Sample_Barcode</th>\n",
              "      <th>Matched_Norm_Sample_Barcode</th>\n",
              "      <th>Response</th>\n",
              "      <th>Silent_mutations_per_Mb</th>\n",
              "      <th>Nonsynonymous_mutations_per_Mb</th>\n",
              "      <th>Mutations_per_Mb</th>\n",
              "    </tr>\n",
              "  </thead>\n",
              "  <tbody>\n",
              "    <tr>\n",
              "      <th>0</th>\n",
              "      <td>Patient-0</td>\n",
              "      <td>Patient-0-Tumor</td>\n",
              "      <td>Patient-0-Normal</td>\n",
              "      <td>Non-Responder</td>\n",
              "      <td>2.87</td>\n",
              "      <td>6.77</td>\n",
              "      <td>9.64</td>\n",
              "    </tr>\n",
              "    <tr>\n",
              "      <th>1</th>\n",
              "      <td>Patient-1</td>\n",
              "      <td>Patient-1-Tumor</td>\n",
              "      <td>Patient-1-Normal</td>\n",
              "      <td>Responder</td>\n",
              "      <td>1.92</td>\n",
              "      <td>6.14</td>\n",
              "      <td>8.06</td>\n",
              "    </tr>\n",
              "    <tr>\n",
              "      <th>2</th>\n",
              "      <td>Patient-2</td>\n",
              "      <td>Patient-2-Tumor</td>\n",
              "      <td>Patient-2-Normal</td>\n",
              "      <td>Responder</td>\n",
              "      <td>1.32</td>\n",
              "      <td>2.84</td>\n",
              "      <td>4.16</td>\n",
              "    </tr>\n",
              "    <tr>\n",
              "      <th>3</th>\n",
              "      <td>Patient-3</td>\n",
              "      <td>Patient-3-Tumor</td>\n",
              "      <td>Patient-3-Normal</td>\n",
              "      <td>Non-Responder</td>\n",
              "      <td>1.78</td>\n",
              "      <td>5.00</td>\n",
              "      <td>6.78</td>\n",
              "    </tr>\n",
              "    <tr>\n",
              "      <th>4</th>\n",
              "      <td>Patient-4</td>\n",
              "      <td>Patient-4-Tumor</td>\n",
              "      <td>Patient-4-Normal</td>\n",
              "      <td>Responder</td>\n",
              "      <td>4.93</td>\n",
              "      <td>10.50</td>\n",
              "      <td>15.43</td>\n",
              "    </tr>\n",
              "  </tbody>\n",
              "</table>\n",
              "</div>\n",
              "    <div class=\"colab-df-buttons\">\n",
              "\n",
              "  <div class=\"colab-df-container\">\n",
              "    <button class=\"colab-df-convert\" onclick=\"convertToInteractive('df-4149a148-856a-4eed-b9f9-43dfc6b81667')\"\n",
              "            title=\"Convert this dataframe to an interactive table.\"\n",
              "            style=\"display:none;\">\n",
              "\n",
              "  <svg xmlns=\"http://www.w3.org/2000/svg\" height=\"24px\" viewBox=\"0 -960 960 960\">\n",
              "    <path d=\"M120-120v-720h720v720H120Zm60-500h600v-160H180v160Zm220 220h160v-160H400v160Zm0 220h160v-160H400v160ZM180-400h160v-160H180v160Zm440 0h160v-160H620v160ZM180-180h160v-160H180v160Zm440 0h160v-160H620v160Z\"/>\n",
              "  </svg>\n",
              "    </button>\n",
              "\n",
              "  <style>\n",
              "    .colab-df-container {\n",
              "      display:flex;\n",
              "      gap: 12px;\n",
              "    }\n",
              "\n",
              "    .colab-df-convert {\n",
              "      background-color: #E8F0FE;\n",
              "      border: none;\n",
              "      border-radius: 50%;\n",
              "      cursor: pointer;\n",
              "      display: none;\n",
              "      fill: #1967D2;\n",
              "      height: 32px;\n",
              "      padding: 0 0 0 0;\n",
              "      width: 32px;\n",
              "    }\n",
              "\n",
              "    .colab-df-convert:hover {\n",
              "      background-color: #E2EBFA;\n",
              "      box-shadow: 0px 1px 2px rgba(60, 64, 67, 0.3), 0px 1px 3px 1px rgba(60, 64, 67, 0.15);\n",
              "      fill: #174EA6;\n",
              "    }\n",
              "\n",
              "    .colab-df-buttons div {\n",
              "      margin-bottom: 4px;\n",
              "    }\n",
              "\n",
              "    [theme=dark] .colab-df-convert {\n",
              "      background-color: #3B4455;\n",
              "      fill: #D2E3FC;\n",
              "    }\n",
              "\n",
              "    [theme=dark] .colab-df-convert:hover {\n",
              "      background-color: #434B5C;\n",
              "      box-shadow: 0px 1px 3px 1px rgba(0, 0, 0, 0.15);\n",
              "      filter: drop-shadow(0px 1px 2px rgba(0, 0, 0, 0.3));\n",
              "      fill: #FFFFFF;\n",
              "    }\n",
              "  </style>\n",
              "\n",
              "    <script>\n",
              "      const buttonEl =\n",
              "        document.querySelector('#df-4149a148-856a-4eed-b9f9-43dfc6b81667 button.colab-df-convert');\n",
              "      buttonEl.style.display =\n",
              "        google.colab.kernel.accessAllowed ? 'block' : 'none';\n",
              "\n",
              "      async function convertToInteractive(key) {\n",
              "        const element = document.querySelector('#df-4149a148-856a-4eed-b9f9-43dfc6b81667');\n",
              "        const dataTable =\n",
              "          await google.colab.kernel.invokeFunction('convertToInteractive',\n",
              "                                                    [key], {});\n",
              "        if (!dataTable) return;\n",
              "\n",
              "        const docLinkHtml = 'Like what you see? Visit the ' +\n",
              "          '<a target=\"_blank\" href=https://colab.research.google.com/notebooks/data_table.ipynb>data table notebook</a>'\n",
              "          + ' to learn more about interactive tables.';\n",
              "        element.innerHTML = '';\n",
              "        dataTable['output_type'] = 'display_data';\n",
              "        await google.colab.output.renderOutput(dataTable, element);\n",
              "        const docLink = document.createElement('div');\n",
              "        docLink.innerHTML = docLinkHtml;\n",
              "        element.appendChild(docLink);\n",
              "      }\n",
              "    </script>\n",
              "  </div>\n",
              "\n",
              "\n",
              "<div id=\"df-3c83282f-67a4-42ff-ad59-97c5b0c91c6d\">\n",
              "  <button class=\"colab-df-quickchart\" onclick=\"quickchart('df-3c83282f-67a4-42ff-ad59-97c5b0c91c6d')\"\n",
              "            title=\"Suggest charts\"\n",
              "            style=\"display:none;\">\n",
              "\n",
              "<svg xmlns=\"http://www.w3.org/2000/svg\" height=\"24px\"viewBox=\"0 0 24 24\"\n",
              "     width=\"24px\">\n",
              "    <g>\n",
              "        <path d=\"M19 3H5c-1.1 0-2 .9-2 2v14c0 1.1.9 2 2 2h14c1.1 0 2-.9 2-2V5c0-1.1-.9-2-2-2zM9 17H7v-7h2v7zm4 0h-2V7h2v10zm4 0h-2v-4h2v4z\"/>\n",
              "    </g>\n",
              "</svg>\n",
              "  </button>\n",
              "\n",
              "<style>\n",
              "  .colab-df-quickchart {\n",
              "      --bg-color: #E8F0FE;\n",
              "      --fill-color: #1967D2;\n",
              "      --hover-bg-color: #E2EBFA;\n",
              "      --hover-fill-color: #174EA6;\n",
              "      --disabled-fill-color: #AAA;\n",
              "      --disabled-bg-color: #DDD;\n",
              "  }\n",
              "\n",
              "  [theme=dark] .colab-df-quickchart {\n",
              "      --bg-color: #3B4455;\n",
              "      --fill-color: #D2E3FC;\n",
              "      --hover-bg-color: #434B5C;\n",
              "      --hover-fill-color: #FFFFFF;\n",
              "      --disabled-bg-color: #3B4455;\n",
              "      --disabled-fill-color: #666;\n",
              "  }\n",
              "\n",
              "  .colab-df-quickchart {\n",
              "    background-color: var(--bg-color);\n",
              "    border: none;\n",
              "    border-radius: 50%;\n",
              "    cursor: pointer;\n",
              "    display: none;\n",
              "    fill: var(--fill-color);\n",
              "    height: 32px;\n",
              "    padding: 0;\n",
              "    width: 32px;\n",
              "  }\n",
              "\n",
              "  .colab-df-quickchart:hover {\n",
              "    background-color: var(--hover-bg-color);\n",
              "    box-shadow: 0 1px 2px rgba(60, 64, 67, 0.3), 0 1px 3px 1px rgba(60, 64, 67, 0.15);\n",
              "    fill: var(--button-hover-fill-color);\n",
              "  }\n",
              "\n",
              "  .colab-df-quickchart-complete:disabled,\n",
              "  .colab-df-quickchart-complete:disabled:hover {\n",
              "    background-color: var(--disabled-bg-color);\n",
              "    fill: var(--disabled-fill-color);\n",
              "    box-shadow: none;\n",
              "  }\n",
              "\n",
              "  .colab-df-spinner {\n",
              "    border: 2px solid var(--fill-color);\n",
              "    border-color: transparent;\n",
              "    border-bottom-color: var(--fill-color);\n",
              "    animation:\n",
              "      spin 1s steps(1) infinite;\n",
              "  }\n",
              "\n",
              "  @keyframes spin {\n",
              "    0% {\n",
              "      border-color: transparent;\n",
              "      border-bottom-color: var(--fill-color);\n",
              "      border-left-color: var(--fill-color);\n",
              "    }\n",
              "    20% {\n",
              "      border-color: transparent;\n",
              "      border-left-color: var(--fill-color);\n",
              "      border-top-color: var(--fill-color);\n",
              "    }\n",
              "    30% {\n",
              "      border-color: transparent;\n",
              "      border-left-color: var(--fill-color);\n",
              "      border-top-color: var(--fill-color);\n",
              "      border-right-color: var(--fill-color);\n",
              "    }\n",
              "    40% {\n",
              "      border-color: transparent;\n",
              "      border-right-color: var(--fill-color);\n",
              "      border-top-color: var(--fill-color);\n",
              "    }\n",
              "    60% {\n",
              "      border-color: transparent;\n",
              "      border-right-color: var(--fill-color);\n",
              "    }\n",
              "    80% {\n",
              "      border-color: transparent;\n",
              "      border-right-color: var(--fill-color);\n",
              "      border-bottom-color: var(--fill-color);\n",
              "    }\n",
              "    90% {\n",
              "      border-color: transparent;\n",
              "      border-bottom-color: var(--fill-color);\n",
              "    }\n",
              "  }\n",
              "</style>\n",
              "\n",
              "  <script>\n",
              "    async function quickchart(key) {\n",
              "      const quickchartButtonEl =\n",
              "        document.querySelector('#' + key + ' button');\n",
              "      quickchartButtonEl.disabled = true;  // To prevent multiple clicks.\n",
              "      quickchartButtonEl.classList.add('colab-df-spinner');\n",
              "      try {\n",
              "        const charts = await google.colab.kernel.invokeFunction(\n",
              "            'suggestCharts', [key], {});\n",
              "      } catch (error) {\n",
              "        console.error('Error during call to suggestCharts:', error);\n",
              "      }\n",
              "      quickchartButtonEl.classList.remove('colab-df-spinner');\n",
              "      quickchartButtonEl.classList.add('colab-df-quickchart-complete');\n",
              "    }\n",
              "    (() => {\n",
              "      let quickchartButtonEl =\n",
              "        document.querySelector('#df-3c83282f-67a4-42ff-ad59-97c5b0c91c6d button');\n",
              "      quickchartButtonEl.style.display =\n",
              "        google.colab.kernel.accessAllowed ? 'block' : 'none';\n",
              "    })();\n",
              "  </script>\n",
              "</div>\n",
              "\n",
              "    </div>\n",
              "  </div>\n"
            ]
          },
          "metadata": {},
          "execution_count": 60
        }
      ]
    },
    {
      "cell_type": "code",
      "source": [
        "df1.describe()"
      ],
      "metadata": {
        "id": "6UyOMhMfAtY8",
        "colab": {
          "base_uri": "https://localhost:8080/",
          "height": 300
        },
        "outputId": "a0546bc3-616b-485f-c295-cd14862cd547"
      },
      "execution_count": 61,
      "outputs": [
        {
          "output_type": "execute_result",
          "data": {
            "text/plain": [
              "       Silent_mutations_per_Mb  Nonsynonymous_mutations_per_Mb  \\\n",
              "count                  50.0000                       50.000000   \n",
              "mean                    2.3176                        6.066200   \n",
              "std                     2.2190                        4.759772   \n",
              "min                     0.0300                        0.120000   \n",
              "25%                     0.8400                        2.840000   \n",
              "50%                     1.5700                        4.220000   \n",
              "75%                     3.0050                        7.972500   \n",
              "max                    10.6000                       20.800000   \n",
              "\n",
              "       Mutations_per_Mb  \n",
              "count         50.000000  \n",
              "mean           8.383550  \n",
              "std            6.951887  \n",
              "min            0.152500  \n",
              "25%            3.736750  \n",
              "50%            5.735000  \n",
              "75%           10.977500  \n",
              "max           31.400000  "
            ],
            "text/html": [
              "\n",
              "  <div id=\"df-46638f50-8c37-4613-baee-3da26199d8e6\" class=\"colab-df-container\">\n",
              "    <div>\n",
              "<style scoped>\n",
              "    .dataframe tbody tr th:only-of-type {\n",
              "        vertical-align: middle;\n",
              "    }\n",
              "\n",
              "    .dataframe tbody tr th {\n",
              "        vertical-align: top;\n",
              "    }\n",
              "\n",
              "    .dataframe thead th {\n",
              "        text-align: right;\n",
              "    }\n",
              "</style>\n",
              "<table border=\"1\" class=\"dataframe\">\n",
              "  <thead>\n",
              "    <tr style=\"text-align: right;\">\n",
              "      <th></th>\n",
              "      <th>Silent_mutations_per_Mb</th>\n",
              "      <th>Nonsynonymous_mutations_per_Mb</th>\n",
              "      <th>Mutations_per_Mb</th>\n",
              "    </tr>\n",
              "  </thead>\n",
              "  <tbody>\n",
              "    <tr>\n",
              "      <th>count</th>\n",
              "      <td>50.0000</td>\n",
              "      <td>50.000000</td>\n",
              "      <td>50.000000</td>\n",
              "    </tr>\n",
              "    <tr>\n",
              "      <th>mean</th>\n",
              "      <td>2.3176</td>\n",
              "      <td>6.066200</td>\n",
              "      <td>8.383550</td>\n",
              "    </tr>\n",
              "    <tr>\n",
              "      <th>std</th>\n",
              "      <td>2.2190</td>\n",
              "      <td>4.759772</td>\n",
              "      <td>6.951887</td>\n",
              "    </tr>\n",
              "    <tr>\n",
              "      <th>min</th>\n",
              "      <td>0.0300</td>\n",
              "      <td>0.120000</td>\n",
              "      <td>0.152500</td>\n",
              "    </tr>\n",
              "    <tr>\n",
              "      <th>25%</th>\n",
              "      <td>0.8400</td>\n",
              "      <td>2.840000</td>\n",
              "      <td>3.736750</td>\n",
              "    </tr>\n",
              "    <tr>\n",
              "      <th>50%</th>\n",
              "      <td>1.5700</td>\n",
              "      <td>4.220000</td>\n",
              "      <td>5.735000</td>\n",
              "    </tr>\n",
              "    <tr>\n",
              "      <th>75%</th>\n",
              "      <td>3.0050</td>\n",
              "      <td>7.972500</td>\n",
              "      <td>10.977500</td>\n",
              "    </tr>\n",
              "    <tr>\n",
              "      <th>max</th>\n",
              "      <td>10.6000</td>\n",
              "      <td>20.800000</td>\n",
              "      <td>31.400000</td>\n",
              "    </tr>\n",
              "  </tbody>\n",
              "</table>\n",
              "</div>\n",
              "    <div class=\"colab-df-buttons\">\n",
              "\n",
              "  <div class=\"colab-df-container\">\n",
              "    <button class=\"colab-df-convert\" onclick=\"convertToInteractive('df-46638f50-8c37-4613-baee-3da26199d8e6')\"\n",
              "            title=\"Convert this dataframe to an interactive table.\"\n",
              "            style=\"display:none;\">\n",
              "\n",
              "  <svg xmlns=\"http://www.w3.org/2000/svg\" height=\"24px\" viewBox=\"0 -960 960 960\">\n",
              "    <path d=\"M120-120v-720h720v720H120Zm60-500h600v-160H180v160Zm220 220h160v-160H400v160Zm0 220h160v-160H400v160ZM180-400h160v-160H180v160Zm440 0h160v-160H620v160ZM180-180h160v-160H180v160Zm440 0h160v-160H620v160Z\"/>\n",
              "  </svg>\n",
              "    </button>\n",
              "\n",
              "  <style>\n",
              "    .colab-df-container {\n",
              "      display:flex;\n",
              "      gap: 12px;\n",
              "    }\n",
              "\n",
              "    .colab-df-convert {\n",
              "      background-color: #E8F0FE;\n",
              "      border: none;\n",
              "      border-radius: 50%;\n",
              "      cursor: pointer;\n",
              "      display: none;\n",
              "      fill: #1967D2;\n",
              "      height: 32px;\n",
              "      padding: 0 0 0 0;\n",
              "      width: 32px;\n",
              "    }\n",
              "\n",
              "    .colab-df-convert:hover {\n",
              "      background-color: #E2EBFA;\n",
              "      box-shadow: 0px 1px 2px rgba(60, 64, 67, 0.3), 0px 1px 3px 1px rgba(60, 64, 67, 0.15);\n",
              "      fill: #174EA6;\n",
              "    }\n",
              "\n",
              "    .colab-df-buttons div {\n",
              "      margin-bottom: 4px;\n",
              "    }\n",
              "\n",
              "    [theme=dark] .colab-df-convert {\n",
              "      background-color: #3B4455;\n",
              "      fill: #D2E3FC;\n",
              "    }\n",
              "\n",
              "    [theme=dark] .colab-df-convert:hover {\n",
              "      background-color: #434B5C;\n",
              "      box-shadow: 0px 1px 3px 1px rgba(0, 0, 0, 0.15);\n",
              "      filter: drop-shadow(0px 1px 2px rgba(0, 0, 0, 0.3));\n",
              "      fill: #FFFFFF;\n",
              "    }\n",
              "  </style>\n",
              "\n",
              "    <script>\n",
              "      const buttonEl =\n",
              "        document.querySelector('#df-46638f50-8c37-4613-baee-3da26199d8e6 button.colab-df-convert');\n",
              "      buttonEl.style.display =\n",
              "        google.colab.kernel.accessAllowed ? 'block' : 'none';\n",
              "\n",
              "      async function convertToInteractive(key) {\n",
              "        const element = document.querySelector('#df-46638f50-8c37-4613-baee-3da26199d8e6');\n",
              "        const dataTable =\n",
              "          await google.colab.kernel.invokeFunction('convertToInteractive',\n",
              "                                                    [key], {});\n",
              "        if (!dataTable) return;\n",
              "\n",
              "        const docLinkHtml = 'Like what you see? Visit the ' +\n",
              "          '<a target=\"_blank\" href=https://colab.research.google.com/notebooks/data_table.ipynb>data table notebook</a>'\n",
              "          + ' to learn more about interactive tables.';\n",
              "        element.innerHTML = '';\n",
              "        dataTable['output_type'] = 'display_data';\n",
              "        await google.colab.output.renderOutput(dataTable, element);\n",
              "        const docLink = document.createElement('div');\n",
              "        docLink.innerHTML = docLinkHtml;\n",
              "        element.appendChild(docLink);\n",
              "      }\n",
              "    </script>\n",
              "  </div>\n",
              "\n",
              "\n",
              "<div id=\"df-58656e2a-049d-40dd-b3ed-3f730f664306\">\n",
              "  <button class=\"colab-df-quickchart\" onclick=\"quickchart('df-58656e2a-049d-40dd-b3ed-3f730f664306')\"\n",
              "            title=\"Suggest charts\"\n",
              "            style=\"display:none;\">\n",
              "\n",
              "<svg xmlns=\"http://www.w3.org/2000/svg\" height=\"24px\"viewBox=\"0 0 24 24\"\n",
              "     width=\"24px\">\n",
              "    <g>\n",
              "        <path d=\"M19 3H5c-1.1 0-2 .9-2 2v14c0 1.1.9 2 2 2h14c1.1 0 2-.9 2-2V5c0-1.1-.9-2-2-2zM9 17H7v-7h2v7zm4 0h-2V7h2v10zm4 0h-2v-4h2v4z\"/>\n",
              "    </g>\n",
              "</svg>\n",
              "  </button>\n",
              "\n",
              "<style>\n",
              "  .colab-df-quickchart {\n",
              "      --bg-color: #E8F0FE;\n",
              "      --fill-color: #1967D2;\n",
              "      --hover-bg-color: #E2EBFA;\n",
              "      --hover-fill-color: #174EA6;\n",
              "      --disabled-fill-color: #AAA;\n",
              "      --disabled-bg-color: #DDD;\n",
              "  }\n",
              "\n",
              "  [theme=dark] .colab-df-quickchart {\n",
              "      --bg-color: #3B4455;\n",
              "      --fill-color: #D2E3FC;\n",
              "      --hover-bg-color: #434B5C;\n",
              "      --hover-fill-color: #FFFFFF;\n",
              "      --disabled-bg-color: #3B4455;\n",
              "      --disabled-fill-color: #666;\n",
              "  }\n",
              "\n",
              "  .colab-df-quickchart {\n",
              "    background-color: var(--bg-color);\n",
              "    border: none;\n",
              "    border-radius: 50%;\n",
              "    cursor: pointer;\n",
              "    display: none;\n",
              "    fill: var(--fill-color);\n",
              "    height: 32px;\n",
              "    padding: 0;\n",
              "    width: 32px;\n",
              "  }\n",
              "\n",
              "  .colab-df-quickchart:hover {\n",
              "    background-color: var(--hover-bg-color);\n",
              "    box-shadow: 0 1px 2px rgba(60, 64, 67, 0.3), 0 1px 3px 1px rgba(60, 64, 67, 0.15);\n",
              "    fill: var(--button-hover-fill-color);\n",
              "  }\n",
              "\n",
              "  .colab-df-quickchart-complete:disabled,\n",
              "  .colab-df-quickchart-complete:disabled:hover {\n",
              "    background-color: var(--disabled-bg-color);\n",
              "    fill: var(--disabled-fill-color);\n",
              "    box-shadow: none;\n",
              "  }\n",
              "\n",
              "  .colab-df-spinner {\n",
              "    border: 2px solid var(--fill-color);\n",
              "    border-color: transparent;\n",
              "    border-bottom-color: var(--fill-color);\n",
              "    animation:\n",
              "      spin 1s steps(1) infinite;\n",
              "  }\n",
              "\n",
              "  @keyframes spin {\n",
              "    0% {\n",
              "      border-color: transparent;\n",
              "      border-bottom-color: var(--fill-color);\n",
              "      border-left-color: var(--fill-color);\n",
              "    }\n",
              "    20% {\n",
              "      border-color: transparent;\n",
              "      border-left-color: var(--fill-color);\n",
              "      border-top-color: var(--fill-color);\n",
              "    }\n",
              "    30% {\n",
              "      border-color: transparent;\n",
              "      border-left-color: var(--fill-color);\n",
              "      border-top-color: var(--fill-color);\n",
              "      border-right-color: var(--fill-color);\n",
              "    }\n",
              "    40% {\n",
              "      border-color: transparent;\n",
              "      border-right-color: var(--fill-color);\n",
              "      border-top-color: var(--fill-color);\n",
              "    }\n",
              "    60% {\n",
              "      border-color: transparent;\n",
              "      border-right-color: var(--fill-color);\n",
              "    }\n",
              "    80% {\n",
              "      border-color: transparent;\n",
              "      border-right-color: var(--fill-color);\n",
              "      border-bottom-color: var(--fill-color);\n",
              "    }\n",
              "    90% {\n",
              "      border-color: transparent;\n",
              "      border-bottom-color: var(--fill-color);\n",
              "    }\n",
              "  }\n",
              "</style>\n",
              "\n",
              "  <script>\n",
              "    async function quickchart(key) {\n",
              "      const quickchartButtonEl =\n",
              "        document.querySelector('#' + key + ' button');\n",
              "      quickchartButtonEl.disabled = true;  // To prevent multiple clicks.\n",
              "      quickchartButtonEl.classList.add('colab-df-spinner');\n",
              "      try {\n",
              "        const charts = await google.colab.kernel.invokeFunction(\n",
              "            'suggestCharts', [key], {});\n",
              "      } catch (error) {\n",
              "        console.error('Error during call to suggestCharts:', error);\n",
              "      }\n",
              "      quickchartButtonEl.classList.remove('colab-df-spinner');\n",
              "      quickchartButtonEl.classList.add('colab-df-quickchart-complete');\n",
              "    }\n",
              "    (() => {\n",
              "      let quickchartButtonEl =\n",
              "        document.querySelector('#df-58656e2a-049d-40dd-b3ed-3f730f664306 button');\n",
              "      quickchartButtonEl.style.display =\n",
              "        google.colab.kernel.accessAllowed ? 'block' : 'none';\n",
              "    })();\n",
              "  </script>\n",
              "</div>\n",
              "\n",
              "    </div>\n",
              "  </div>\n"
            ]
          },
          "metadata": {},
          "execution_count": 61
        }
      ]
    },
    {
      "cell_type": "code",
      "source": [
        "df1.nunique()"
      ],
      "metadata": {
        "id": "C-7Ev19MG7CR",
        "colab": {
          "base_uri": "https://localhost:8080/",
          "height": 0
        },
        "outputId": "9bb63025-224e-43aa-9b7f-9cd17de26a48"
      },
      "execution_count": 62,
      "outputs": [
        {
          "output_type": "execute_result",
          "data": {
            "text/plain": [
              "Patient_ID                        50\n",
              "Tumor_Sample_Barcode              50\n",
              "Matched_Norm_Sample_Barcode       50\n",
              "Response                           2\n",
              "Silent_mutations_per_Mb           43\n",
              "Nonsynonymous_mutations_per_Mb    47\n",
              "Mutations_per_Mb                  49\n",
              "dtype: int64"
            ]
          },
          "metadata": {},
          "execution_count": 62
        }
      ]
    },
    {
      "source": [
        "melted_df = pd.melt(df1, id_vars=['Response'], value_vars=['Silent_mutations_per_Mb', 'Nonsynonymous_mutations_per_Mb', 'Mutations_per_Mb'],\n",
        "                    var_name='Mutation Type', value_name='Mutations per Mb')\n",
        "\n",
        "plt.figure(figsize=(10, 6))\n",
        "sns.boxplot(x='Response', y='Mutations per Mb', hue='Mutation Type', data=melted_df)\n",
        "plt.title('Box Plot of Mutations per Mb by Response and Mutation Type')\n",
        "plt.show()"
      ],
      "cell_type": "code",
      "metadata": {
        "id": "vd8N5BEODl84",
        "colab": {
          "base_uri": "https://localhost:8080/",
          "height": 564
        },
        "outputId": "4735ab4b-f1de-40af-ed45-d93c60999729"
      },
      "execution_count": 63,
      "outputs": [
        {
          "output_type": "display_data",
          "data": {
            "text/plain": [
              "<Figure size 1000x600 with 1 Axes>"
            ],
            "image/png": "[encoded data removed]"
          },
          "metadata": {}
        }
      ]
    },
    {
      "cell_type": "code",
      "source": [
        "# Creating box plots\n",
        "plt.figure(figsize=(12, 6))\n",
        "\n",
        "# Silent mutations per Mb\n",
        "plt.subplot(1, 3, 1)\n",
        "sns.boxplot(x='Response', y='Silent_mutations_per_Mb', data=df1)\n",
        "plt.title('Silent mutations per Mb')\n",
        "\n",
        "# Nonsynonymous mutations per Mb\n",
        "plt.subplot(1, 3, 2)\n",
        "sns.boxplot(x='Response', y='Nonsynonymous_mutations_per_Mb', data=df1)\n",
        "plt.title('Nonsynonymous mutations per Mb')\n",
        "\n",
        "# Mutations per Mb\n",
        "plt.subplot(1, 3, 3)\n",
        "sns.boxplot(x='Response', y='Mutations_per_Mb', data=df1)\n",
        "plt.title('Mutations per Mb')\n",
        "\n",
        "plt.tight_layout()\n",
        "plt.show()"
      ],
      "metadata": {
        "id": "lUO9fTQcHz-Y",
        "colab": {
          "base_uri": "https://localhost:8080/",
          "height": 607
        },
        "outputId": "6de6ccb3-98a5-4118-dca4-a050549831be"
      },
      "execution_count": 64,
      "outputs": [
        {
          "output_type": "display_data",
          "data": {
            "text/plain": [
              "<Figure size 1200x600 with 3 Axes>"
            ],
            "image/png": "[encoded data removed]"
          },
          "metadata": {}
        }
      ]
    },
    {
      "cell_type": "code",
      "source": [],
      "metadata": {
        "id": "eVbb_Mt-SRj0"
      },
      "execution_count": 64,
      "outputs": []
    },
    {
      "cell_type": "code",
      "source": [
        "#'Patient_ID',, 'Silent_mutations_per_Mb','Nonsynonymous_mutations_per_Mb','Mutations_per_Mb'\n",
        "cols = ['Response','Tumor_Sample_Barcode', 'Nonsynonymous_mutations_per_Mb']\n",
        "df3 = pd.merge(filtered_df, df1[cols], on=['Tumor_Sample_Barcode'], how='outer')"
      ],
      "metadata": {
        "id": "6qnyuRBnSRmz"
      },
      "execution_count": 65,
      "outputs": []
    },
    {
      "cell_type": "code",
      "source": [
        "df3['VAF'] = df3['t_alt_count']/(df3['t_alt_count']+df3['t_ref_count'])"
      ],
      "metadata": {
        "id": "pSEVpznNXwnF"
      },
      "execution_count": 66,
      "outputs": []
    },
    {
      "cell_type": "code",
      "source": [
        "df3.head()"
      ],
      "metadata": {
        "colab": {
          "base_uri": "https://localhost:8080/",
          "height": 313
        },
        "id": "vuy-TTupSRpI",
        "outputId": "bf980fce-6afd-490b-c6b9-90545d66e2e8"
      },
      "execution_count": 67,
      "outputs": [
        {
          "output_type": "execute_result",
          "data": {
            "text/plain": [
              "  Hugo_Symbol Chromosome  Start_position  End_position Variant_Classification  \\\n",
              "0      ZFYVE9          1        52704470      52704470      Missense_Mutation   \n",
              "1     MAP3K13          3       185181390     185181390      Missense_Mutation   \n",
              "2       CSMD2          1        34083194      34083194      Nonsense_Mutation   \n",
              "3   KIDINS220          2         8930084       8930084      Missense_Mutation   \n",
              "4    KIAA0947          5         5462196       5462196      Missense_Mutation   \n",
              "\n",
              "  Variant_Type Reference_Allele Tumor_Seq_Allele1 Tumor_Seq_Allele2  \\\n",
              "0          SNP                G                 G                 A   \n",
              "1          SNP                G                 G                 A   \n",
              "2          SNP                C                 C                 A   \n",
              "3          SNP                A                 A                 T   \n",
              "4          SNP                G                 G                 A   \n",
              "\n",
              "  Tumor_Sample_Barcode Matched_Norm_Sample_Barcode Protein_Change  \\\n",
              "0      Patient-5-Tumor            Patient-5-Normal        p.D461N   \n",
              "1      Patient-5-Tumor            Patient-5-Normal        p.G444E   \n",
              "2      Patient-5-Tumor            Patient-5-Normal       p.E1951*   \n",
              "3      Patient-5-Tumor            Patient-5-Normal        p.F516Y   \n",
              "4      Patient-5-Tumor            Patient-5-Normal        p.E917K   \n",
              "\n",
              "   t_alt_count  t_ref_count       Response  Nonsynonymous_mutations_per_Mb  \\\n",
              "0            6          125  Non-Responder                            8.15   \n",
              "1            5          136  Non-Responder                            8.15   \n",
              "2            9           67  Non-Responder                            8.15   \n",
              "3            5          241  Non-Responder                            8.15   \n",
              "4           21          148  Non-Responder                            8.15   \n",
              "\n",
              "        VAF  \n",
              "0  0.045802  \n",
              "1  0.035461  \n",
              "2  0.118421  \n",
              "3  0.020325  \n",
              "4  0.124260  "
            ],
            "text/html": [
              "\n",
              "  <div id=\"df-df09cbe6-60f6-4aa3-b2d2-56be3d16d97c\" class=\"colab-df-container\">\n",
              "    <div>\n",
              "<style scoped>\n",
              "    .dataframe tbody tr th:only-of-type {\n",
              "        vertical-align: middle;\n",
              "    }\n",
              "\n",
              "    .dataframe tbody tr th {\n",
              "        vertical-align: top;\n",
              "    }\n",
              "\n",
              "    .dataframe thead th {\n",
              "        text-align: right;\n",
              "    }\n",
              "</style>\n",
              "<table border=\"1\" class=\"dataframe\">\n",
              "  <thead>\n",
              "    <tr style=\"text-align: right;\">\n",
              "      <th></th>\n",
              "      <th>Hugo_Symbol</th>\n",
              "      <th>Chromosome</th>\n",
              "      <th>Start_position</th>\n",
              "      <th>End_position</th>\n",
              "      <th>Variant_Classification</th>\n",
              "      <th>Variant_Type</th>\n",
              "      <th>Reference_Allele</th>\n",
              "      <th>Tumor_Seq_Allele1</th>\n",
              "      <th>Tumor_Seq_Allele2</th>\n",
              "      <th>Tumor_Sample_Barcode</th>\n",
              "      <th>Matched_Norm_Sample_Barcode</th>\n",
              "      <th>Protein_Change</th>\n",
              "      <th>t_alt_count</th>\n",
              "      <th>t_ref_count</th>\n",
              "      <th>Response</th>\n",
              "      <th>Nonsynonymous_mutations_per_Mb</th>\n",
              "      <th>VAF</th>\n",
              "    </tr>\n",
              "  </thead>\n",
              "  <tbody>\n",
              "    <tr>\n",
              "      <th>0</th>\n",
              "      <td>ZFYVE9</td>\n",
              "      <td>1</td>\n",
              "      <td>52704470</td>\n",
              "      <td>52704470</td>\n",
              "      <td>Missense_Mutation</td>\n",
              "      <td>SNP</td>\n",
              "      <td>G</td>\n",
              "      <td>G</td>\n",
              "      <td>A</td>\n",
              "      <td>Patient-5-Tumor</td>\n",
              "      <td>Patient-5-Normal</td>\n",
              "      <td>p.D461N</td>\n",
              "      <td>6</td>\n",
              "      <td>125</td>\n",
              "      <td>Non-Responder</td>\n",
              "      <td>8.15</td>\n",
              "      <td>0.045802</td>\n",
              "    </tr>\n",
              "    <tr>\n",
              "      <th>1</th>\n",
              "      <td>MAP3K13</td>\n",
              "      <td>3</td>\n",
              "      <td>185181390</td>\n",
              "      <td>185181390</td>\n",
              "      <td>Missense_Mutation</td>\n",
              "      <td>SNP</td>\n",
              "      <td>G</td>\n",
              "      <td>G</td>\n",
              "      <td>A</td>\n",
              "      <td>Patient-5-Tumor</td>\n",
              "      <td>Patient-5-Normal</td>\n",
              "      <td>p.G444E</td>\n",
              "      <td>5</td>\n",
              "      <td>136</td>\n",
              "      <td>Non-Responder</td>\n",
              "      <td>8.15</td>\n",
              "      <td>0.035461</td>\n",
              "    </tr>\n",
              "    <tr>\n",
              "      <th>2</th>\n",
              "      <td>CSMD2</td>\n",
              "      <td>1</td>\n",
              "      <td>34083194</td>\n",
              "      <td>34083194</td>\n",
              "      <td>Nonsense_Mutation</td>\n",
              "      <td>SNP</td>\n",
              "      <td>C</td>\n",
              "      <td>C</td>\n",
              "      <td>A</td>\n",
              "      <td>Patient-5-Tumor</td>\n",
              "      <td>Patient-5-Normal</td>\n",
              "      <td>p.E1951*</td>\n",
              "      <td>9</td>\n",
              "      <td>67</td>\n",
              "      <td>Non-Responder</td>\n",
              "      <td>8.15</td>\n",
              "      <td>0.118421</td>\n",
              "    </tr>\n",
              "    <tr>\n",
              "      <th>3</th>\n",
              "      <td>KIDINS220</td>\n",
              "      <td>2</td>\n",
              "      <td>8930084</td>\n",
              "      <td>8930084</td>\n",
              "      <td>Missense_Mutation</td>\n",
              "      <td>SNP</td>\n",
              "      <td>A</td>\n",
              "      <td>A</td>\n",
              "      <td>T</td>\n",
              "      <td>Patient-5-Tumor</td>\n",
              "      <td>Patient-5-Normal</td>\n",
              "      <td>p.F516Y</td>\n",
              "      <td>5</td>\n",
              "      <td>241</td>\n",
              "      <td>Non-Responder</td>\n",
              "      <td>8.15</td>\n",
              "      <td>0.020325</td>\n",
              "    </tr>\n",
              "    <tr>\n",
              "      <th>4</th>\n",
              "      <td>KIAA0947</td>\n",
              "      <td>5</td>\n",
              "      <td>5462196</td>\n",
              "      <td>5462196</td>\n",
              "      <td>Missense_Mutation</td>\n",
              "      <td>SNP</td>\n",
              "      <td>G</td>\n",
              "      <td>G</td>\n",
              "      <td>A</td>\n",
              "      <td>Patient-5-Tumor</td>\n",
              "      <td>Patient-5-Normal</td>\n",
              "      <td>p.E917K</td>\n",
              "      <td>21</td>\n",
              "      <td>148</td>\n",
              "      <td>Non-Responder</td>\n",
              "      <td>8.15</td>\n",
              "      <td>0.124260</td>\n",
              "    </tr>\n",
              "  </tbody>\n",
              "</table>\n",
              "</div>\n",
              "    <div class=\"colab-df-buttons\">\n",
              "\n",
              "  <div class=\"colab-df-container\">\n",
              "    <button class=\"colab-df-convert\" onclick=\"convertToInteractive('df-df09cbe6-60f6-4aa3-b2d2-56be3d16d97c')\"\n",
              "            title=\"Convert this dataframe to an interactive table.\"\n",
              "            style=\"display:none;\">\n",
              "\n",
              "  <svg xmlns=\"http://www.w3.org/2000/svg\" height=\"24px\" viewBox=\"0 -960 960 960\">\n",
              "    <path d=\"M120-120v-720h720v720H120Zm60-500h600v-160H180v160Zm220 220h160v-160H400v160Zm0 220h160v-160H400v160ZM180-400h160v-160H180v160Zm440 0h160v-160H620v160ZM180-180h160v-160H180v160Zm440 0h160v-160H620v160Z\"/>\n",
              "  </svg>\n",
              "    </button>\n",
              "\n",
              "  <style>\n",
              "    .colab-df-container {\n",
              "      display:flex;\n",
              "      gap: 12px;\n",
              "    }\n",
              "\n",
              "    .colab-df-convert {\n",
              "      background-color: #E8F0FE;\n",
              "      border: none;\n",
              "      border-radius: 50%;\n",
              "      cursor: pointer;\n",
              "      display: none;\n",
              "      fill: #1967D2;\n",
              "      height: 32px;\n",
              "      padding: 0 0 0 0;\n",
              "      width: 32px;\n",
              "    }\n",
              "\n",
              "    .colab-df-convert:hover {\n",
              "      background-color: #E2EBFA;\n",
              "      box-shadow: 0px 1px 2px rgba(60, 64, 67, 0.3), 0px 1px 3px 1px rgba(60, 64, 67, 0.15);\n",
              "      fill: #174EA6;\n",
              "    }\n",
              "\n",
              "    .colab-df-buttons div {\n",
              "      margin-bottom: 4px;\n",
              "    }\n",
              "\n",
              "    [theme=dark] .colab-df-convert {\n",
              "      background-color: #3B4455;\n",
              "      fill: #D2E3FC;\n",
              "    }\n",
              "\n",
              "    [theme=dark] .colab-df-convert:hover {\n",
              "      background-color: #434B5C;\n",
              "      box-shadow: 0px 1px 3px 1px rgba(0, 0, 0, 0.15);\n",
              "      filter: drop-shadow(0px 1px 2px rgba(0, 0, 0, 0.3));\n",
              "      fill: #FFFFFF;\n",
              "    }\n",
              "  </style>\n",
              "\n",
              "    <script>\n",
              "      const buttonEl =\n",
              "        document.querySelector('#df-df09cbe6-60f6-4aa3-b2d2-56be3d16d97c button.colab-df-convert');\n",
              "      buttonEl.style.display =\n",
              "        google.colab.kernel.accessAllowed ? 'block' : 'none';\n",
              "\n",
              "      async function convertToInteractive(key) {\n",
              "        const element = document.querySelector('#df-df09cbe6-60f6-4aa3-b2d2-56be3d16d97c');\n",
              "        const dataTable =\n",
              "          await google.colab.kernel.invokeFunction('convertToInteractive',\n",
              "                                                    [key], {});\n",
              "        if (!dataTable) return;\n",
              "\n",
              "        const docLinkHtml = 'Like what you see? Visit the ' +\n",
              "          '<a target=\"_blank\" href=https://colab.research.google.com/notebooks/data_table.ipynb>data table notebook</a>'\n",
              "          + ' to learn more about interactive tables.';\n",
              "        element.innerHTML = '';\n",
              "        dataTable['output_type'] = 'display_data';\n",
              "        await google.colab.output.renderOutput(dataTable, element);\n",
              "        const docLink = document.createElement('div');\n",
              "        docLink.innerHTML = docLinkHtml;\n",
              "        element.appendChild(docLink);\n",
              "      }\n",
              "    </script>\n",
              "  </div>\n",
              "\n",
              "\n",
              "<div id=\"df-a6d52382-2690-4bbd-b871-d1f055005fcc\">\n",
              "  <button class=\"colab-df-quickchart\" onclick=\"quickchart('df-a6d52382-2690-4bbd-b871-d1f055005fcc')\"\n",
              "            title=\"Suggest charts\"\n",
              "            style=\"display:none;\">\n",
              "\n",
              "<svg xmlns=\"http://www.w3.org/2000/svg\" height=\"24px\"viewBox=\"0 0 24 24\"\n",
              "     width=\"24px\">\n",
              "    <g>\n",
              "        <path d=\"M19 3H5c-1.1 0-2 .9-2 2v14c0 1.1.9 2 2 2h14c1.1 0 2-.9 2-2V5c0-1.1-.9-2-2-2zM9 17H7v-7h2v7zm4 0h-2V7h2v10zm4 0h-2v-4h2v4z\"/>\n",
              "    </g>\n",
              "</svg>\n",
              "  </button>\n",
              "\n",
              "<style>\n",
              "  .colab-df-quickchart {\n",
              "      --bg-color: #E8F0FE;\n",
              "      --fill-color: #1967D2;\n",
              "      --hover-bg-color: #E2EBFA;\n",
              "      --hover-fill-color: #174EA6;\n",
              "      --disabled-fill-color: #AAA;\n",
              "      --disabled-bg-color: #DDD;\n",
              "  }\n",
              "\n",
              "  [theme=dark] .colab-df-quickchart {\n",
              "      --bg-color: #3B4455;\n",
              "      --fill-color: #D2E3FC;\n",
              "      --hover-bg-color: #434B5C;\n",
              "      --hover-fill-color: #FFFFFF;\n",
              "      --disabled-bg-color: #3B4455;\n",
              "      --disabled-fill-color: #666;\n",
              "  }\n",
              "\n",
              "  .colab-df-quickchart {\n",
              "    background-color: var(--bg-color);\n",
              "    border: none;\n",
              "    border-radius: 50%;\n",
              "    cursor: pointer;\n",
              "    display: none;\n",
              "    fill: var(--fill-color);\n",
              "    height: 32px;\n",
              "    padding: 0;\n",
              "    width: 32px;\n",
              "  }\n",
              "\n",
              "  .colab-df-quickchart:hover {\n",
              "    background-color: var(--hover-bg-color);\n",
              "    box-shadow: 0 1px 2px rgba(60, 64, 67, 0.3), 0 1px 3px 1px rgba(60, 64, 67, 0.15);\n",
              "    fill: var(--button-hover-fill-color);\n",
              "  }\n",
              "\n",
              "  .colab-df-quickchart-complete:disabled,\n",
              "  .colab-df-quickchart-complete:disabled:hover {\n",
              "    background-color: var(--disabled-bg-color);\n",
              "    fill: var(--disabled-fill-color);\n",
              "    box-shadow: none;\n",
              "  }\n",
              "\n",
              "  .colab-df-spinner {\n",
              "    border: 2px solid var(--fill-color);\n",
              "    border-color: transparent;\n",
              "    border-bottom-color: var(--fill-color);\n",
              "    animation:\n",
              "      spin 1s steps(1) infinite;\n",
              "  }\n",
              "\n",
              "  @keyframes spin {\n",
              "    0% {\n",
              "      border-color: transparent;\n",
              "      border-bottom-color: var(--fill-color);\n",
              "      border-left-color: var(--fill-color);\n",
              "    }\n",
              "    20% {\n",
              "      border-color: transparent;\n",
              "      border-left-color: var(--fill-color);\n",
              "      border-top-color: var(--fill-color);\n",
              "    }\n",
              "    30% {\n",
              "      border-color: transparent;\n",
              "      border-left-color: var(--fill-color);\n",
              "      border-top-color: var(--fill-color);\n",
              "      border-right-color: var(--fill-color);\n",
              "    }\n",
              "    40% {\n",
              "      border-color: transparent;\n",
              "      border-right-color: var(--fill-color);\n",
              "      border-top-color: var(--fill-color);\n",
              "    }\n",
              "    60% {\n",
              "      border-color: transparent;\n",
              "      border-right-color: var(--fill-color);\n",
              "    }\n",
              "    80% {\n",
              "      border-color: transparent;\n",
              "      border-right-color: var(--fill-color);\n",
              "      border-bottom-color: var(--fill-color);\n",
              "    }\n",
              "    90% {\n",
              "      border-color: transparent;\n",
              "      border-bottom-color: var(--fill-color);\n",
              "    }\n",
              "  }\n",
              "</style>\n",
              "\n",
              "  <script>\n",
              "    async function quickchart(key) {\n",
              "      const quickchartButtonEl =\n",
              "        document.querySelector('#' + key + ' button');\n",
              "      quickchartButtonEl.disabled = true;  // To prevent multiple clicks.\n",
              "      quickchartButtonEl.classList.add('colab-df-spinner');\n",
              "      try {\n",
              "        const charts = await google.colab.kernel.invokeFunction(\n",
              "            'suggestCharts', [key], {});\n",
              "      } catch (error) {\n",
              "        console.error('Error during call to suggestCharts:', error);\n",
              "      }\n",
              "      quickchartButtonEl.classList.remove('colab-df-spinner');\n",
              "      quickchartButtonEl.classList.add('colab-df-quickchart-complete');\n",
              "    }\n",
              "    (() => {\n",
              "      let quickchartButtonEl =\n",
              "        document.querySelector('#df-a6d52382-2690-4bbd-b871-d1f055005fcc button');\n",
              "      quickchartButtonEl.style.display =\n",
              "        google.colab.kernel.accessAllowed ? 'block' : 'none';\n",
              "    })();\n",
              "  </script>\n",
              "</div>\n",
              "\n",
              "    </div>\n",
              "  </div>\n"
            ]
          },
          "metadata": {},
          "execution_count": 67
        }
      ]
    },
    {
      "cell_type": "code",
      "source": [
        "#Ideally close to 0.5 expected for a medium stage tumor assuming purity and\n",
        "#sequencing quality and sample selectivity is good\n",
        "\n",
        "plt.figure(figsize=(10, 5))\n",
        "\n",
        "sns.boxplot(x='Response', y='VAF', data=df3)\n",
        "plt.title('Variant Allele Frequency')\n",
        "\n",
        "\n",
        "plt.show()"
      ],
      "metadata": {
        "colab": {
          "base_uri": "https://localhost:8080/",
          "height": 487
        },
        "id": "2WaAEvsf7LU6",
        "outputId": "daa88d7d-6395-41a4-bf48-74254a075004"
      },
      "execution_count": 68,
      "outputs": [
        {
          "output_type": "display_data",
          "data": {
            "text/plain": [
              "<Figure size 1000x500 with 1 Axes>"
            ],
            "image/png": "[encoded data removed]"
          },
          "metadata": {}
        }
      ]
    },
    {
      "cell_type": "code",
      "source": [],
      "metadata": {
        "id": "D5fpmu2cItbf"
      },
      "execution_count": null,
      "outputs": []
    },
    {
      "cell_type": "code",
      "source": [
        "df3.nunique()"
      ],
      "metadata": {
        "colab": {
          "base_uri": "https://localhost:8080/",
          "height": 0
        },
        "id": "krYABKQjSRrn",
        "outputId": "44404974-ddb6-4e67-d94a-b4d3ba769fc8"
      },
      "execution_count": 69,
      "outputs": [
        {
          "output_type": "execute_result",
          "data": {
            "text/plain": [
              "Hugo_Symbol                        6834\n",
              "Chromosome                           46\n",
              "Start_position                    10873\n",
              "End_position                      10873\n",
              "Variant_Classification                3\n",
              "Variant_Type                          1\n",
              "Reference_Allele                      4\n",
              "Tumor_Seq_Allele1                     4\n",
              "Tumor_Seq_Allele2                     4\n",
              "Tumor_Sample_Barcode                 50\n",
              "Matched_Norm_Sample_Barcode          50\n",
              "Protein_Change                     9563\n",
              "t_alt_count                         161\n",
              "t_ref_count                         479\n",
              "Response                              2\n",
              "Nonsynonymous_mutations_per_Mb       47\n",
              "VAF                                3741\n",
              "dtype: int64"
            ]
          },
          "metadata": {},
          "execution_count": 69
        }
      ]
    },
    {
      "cell_type": "code",
      "source": [
        "df3.info()"
      ],
      "metadata": {
        "id": "thOAMWRSegwM",
        "colab": {
          "base_uri": "https://localhost:8080/",
          "height": 0
        },
        "outputId": "2a81cf10-835d-471f-9fe6-8f026485e3ea"
      },
      "execution_count": 70,
      "outputs": [
        {
          "output_type": "stream",
          "name": "stdout",
          "text": [
            "<class 'pandas.core.frame.DataFrame'>\n",
            "Int64Index: 11038 entries, 0 to 11037\n",
            "Data columns (total 17 columns):\n",
            " #   Column                          Non-Null Count  Dtype  \n",
            "---  ------                          --------------  -----  \n",
            " 0   Hugo_Symbol                     11038 non-null  object \n",
            " 1   Chromosome                      11038 non-null  object \n",
            " 2   Start_position                  11038 non-null  int64  \n",
            " 3   End_position                    11038 non-null  int64  \n",
            " 4   Variant_Classification          11038 non-null  object \n",
            " 5   Variant_Type                    11038 non-null  object \n",
            " 6   Reference_Allele                11038 non-null  object \n",
            " 7   Tumor_Seq_Allele1               11038 non-null  object \n",
            " 8   Tumor_Seq_Allele2               11038 non-null  object \n",
            " 9   Tumor_Sample_Barcode            11038 non-null  object \n",
            " 10  Matched_Norm_Sample_Barcode     11038 non-null  object \n",
            " 11  Protein_Change                  11038 non-null  object \n",
            " 12  t_alt_count                     11038 non-null  int64  \n",
            " 13  t_ref_count                     11038 non-null  int64  \n",
            " 14  Response                        11038 non-null  object \n",
            " 15  Nonsynonymous_mutations_per_Mb  11038 non-null  float64\n",
            " 16  VAF                             11038 non-null  float64\n",
            "dtypes: float64(2), int64(4), object(11)\n",
            "memory usage: 1.5+ MB\n"
          ]
        }
      ]
    },
    {
      "cell_type": "code",
      "source": [
        "#Most common gene mutations have multiple hits\n",
        "df3.groupby(['Tumor_Sample_Barcode'])['Hugo_Symbol'].value_counts()"
      ],
      "metadata": {
        "id": "OOgMo5lr2qwZ",
        "colab": {
          "base_uri": "https://localhost:8080/",
          "height": 0
        },
        "outputId": "7662e48c-7aa0-4ecd-c12b-644f199f21ab"
      },
      "execution_count": 71,
      "outputs": [
        {
          "output_type": "execute_result",
          "data": {
            "text/plain": [
              "Tumor_Sample_Barcode  Hugo_Symbol\n",
              "Patient-0-Tumor       TTN            4\n",
              "                      MVP            3\n",
              "                      DST            2\n",
              "                      GPR115         2\n",
              "                      MSLNL          2\n",
              "                                    ..\n",
              "Patient-9-Tumor       WDR48          1\n",
              "                      ZC3H12A        1\n",
              "                      ZCCHC10        1\n",
              "                      ZFP41          1\n",
              "                      ZNF80          1\n",
              "Name: Hugo_Symbol, Length: 10406, dtype: int64"
            ]
          },
          "metadata": {},
          "execution_count": 71
        }
      ]
    },
    {
      "cell_type": "code",
      "source": [],
      "metadata": {
        "id": "cBJcPpfMgAS2"
      },
      "execution_count": 71,
      "outputs": []
    },
    {
      "cell_type": "code",
      "source": [
        "# df['Hugo_Symbol'] = df['Hugo_Symbol'].astype('str')\n",
        "# df['Tumor_Sample_Barcode'] = df['Tumor_Sample_Barcode'].astype('str')\n",
        "# df['Response'] = df['Response'].astype('str')\n",
        "\n",
        "df_test = df3.drop_duplicates(['Tumor_Sample_Barcode','Hugo_Symbol'])"
      ],
      "metadata": {
        "id": "ovCjoRQo2q5Z"
      },
      "execution_count": 72,
      "outputs": []
    },
    {
      "cell_type": "code",
      "source": [
        "df_test.nunique()"
      ],
      "metadata": {
        "id": "OMxnDQaGc3SW",
        "colab": {
          "base_uri": "https://localhost:8080/",
          "height": 0
        },
        "outputId": "8c59fa7a-6ac4-4fce-bb62-36d2334d1d60"
      },
      "execution_count": 73,
      "outputs": [
        {
          "output_type": "execute_result",
          "data": {
            "text/plain": [
              "Hugo_Symbol                        6834\n",
              "Chromosome                           46\n",
              "Start_position                    10290\n",
              "End_position                      10290\n",
              "Variant_Classification                3\n",
              "Variant_Type                          1\n",
              "Reference_Allele                      4\n",
              "Tumor_Seq_Allele1                     4\n",
              "Tumor_Seq_Allele2                     4\n",
              "Tumor_Sample_Barcode                 50\n",
              "Matched_Norm_Sample_Barcode          50\n",
              "Protein_Change                     9086\n",
              "t_alt_count                         159\n",
              "t_ref_count                         471\n",
              "Response                              2\n",
              "Nonsynonymous_mutations_per_Mb       47\n",
              "VAF                                3614\n",
              "dtype: int64"
            ]
          },
          "metadata": {},
          "execution_count": 73
        }
      ]
    },
    {
      "source": [
        "from scipy.stats import fisher_exact\n",
        "\n",
        "# Store results for each gene\n",
        "gene_odds_val = []\n",
        "gene_p_val = []\n",
        "\n",
        "contingency_table = pd.crosstab(df_test['Hugo_Symbol'], df_test['Response'])\n",
        "# Loop through each gene\n",
        "for gene in contingency_table.index:\n",
        "  # Create a 2x2 contingency table\n",
        "  a = contingency_table.loc[gene]['Responder']\n",
        "  b = contingency_table.loc[gene]['Non-Responder']\n",
        "  c = 25-a\n",
        "  d = 25-b\n",
        "\n",
        "  dict_a = {'Responder':[a,c],\n",
        "      'Non-Responder':[b,d]\n",
        "      }\n",
        "\n",
        "  df0 = pd.DataFrame(dict_a)\n",
        "  df0.values\n",
        "\n",
        "  # Perform Fisher's exact test\n",
        "  #Odds ratio are greater than one or less than one or equal...\n",
        "  #here we test equal\n",
        "\n",
        "  odds_ratio, p_value = fisher_exact(df0)\n",
        "\n",
        "  gene_odds_val.append(odds_ratio)\n",
        "  gene_p_val.append(p_value)"
      ],
      "cell_type": "code",
      "metadata": {
        "id": "iR6_HpF9DdR7"
      },
      "execution_count": 74,
      "outputs": []
    },
    {
      "cell_type": "markdown",
      "source": [
        "#Most_Significantly_Enriched_Gene"
      ],
      "metadata": {
        "id": "kkbpLtqIZSrp"
      }
    },
    {
      "cell_type": "code",
      "source": [
        "#Since, we have very few positives we may not need FDR for this data\n",
        "\n",
        "from statsmodels.stats.multitest import multipletests\n",
        "\n",
        "dff4 = contingency_table\n",
        "dff4 = dff4.assign(odd_val=gene_odds_val)\n",
        "dff4 = dff4.assign(p_val=gene_p_val)\n",
        "\n",
        "significant_genes = dff4[dff4['p_val'] < 0.05].index\n",
        "\n",
        "\n",
        "#We cannot utilize odds_ratio due to zero frequency for some values\n",
        "\n",
        "Most_significant_enriched_gene = dff4['p_val'].idxmin()\n",
        "dff4.loc[Most_significant_enriched_gene]\n",
        "\n",
        "# dff4.sort_values(by='p_val', inplace=True)\n",
        "\n",
        "#Performing correction here\n",
        "# dff4 = dff4.assign(FDR = multipletests(dff4['p_val'], method='fdr_bh')[1])\n",
        "# # #We could check for 0.025 since two tailed, with further analysis\n",
        "# significant_genes_corrected = dff4[dff4['FDR'] < 0.05].index\n",
        "# significant_genes_corrected\n",
        "# dff4.head()"
      ],
      "metadata": {
        "colab": {
          "base_uri": "https://localhost:8080/",
          "height": 0
        },
        "id": "j6anZ1C4fjM9",
        "outputId": "8c57213f-5431-4552-a05c-d4d94c1bade9"
      },
      "execution_count": 75,
      "outputs": [
        {
          "output_type": "execute_result",
          "data": {
            "text/plain": [
              "Response\n",
              "Non-Responder    0.000000\n",
              "Responder        9.000000\n",
              "odd_val               inf\n",
              "p_val            0.001631\n",
              "Name: ERCC2, dtype: float64"
            ]
          },
          "metadata": {},
          "execution_count": 75
        }
      ]
    },
    {
      "cell_type": "code",
      "source": [
        "#Let's see the status of top 15 genes\n",
        "dff4[dff4.index.isin(top_15_gene_mutation)]"
      ],
      "metadata": {
        "colab": {
          "base_uri": "https://localhost:8080/",
          "height": 551
        },
        "id": "WS53yIHGDHrd",
        "outputId": "447954a1-9f56-4a89-8653-43b12e247c47"
      },
      "execution_count": 76,
      "outputs": [
        {
          "output_type": "execute_result",
          "data": {
            "text/plain": [
              "Response     Non-Responder  Responder   odd_val     p_val\n",
              "Hugo_Symbol                                              \n",
              "ERBB3                    5          6  1.263158  1.000000\n",
              "ERBB4                    9          9  1.000000  1.000000\n",
              "ERCC2                    0          9       inf  0.001631\n",
              "FAT4                     3          6  2.315789  0.463490\n",
              "FRG1B                    5          5  1.000000  1.000000\n",
              "KMT2D                    5          8  1.882353  0.520195\n",
              "MUC16                   11          9  0.715909  0.773287\n",
              "PDE4DIP                  3          5  1.833333  0.701939\n",
              "PIK3CA                   3          6  2.315789  0.463490\n",
              "RB1                      2          6  3.631579  0.246719\n",
              "SYNE1                    2          7  4.472222  0.138333\n",
              "TP53                    13          9  0.519231  0.393064\n",
              "TTN                     15         12  0.615385  0.570916\n",
              "ZNF208                   3          6  2.315789  0.463490\n",
              "ZNF844                   3          5  1.833333  0.701939"
            ],
            "text/html": [
              "\n",
              "  <div id=\"df-b601c0fc-735a-4df7-9336-d95d7c6fe90d\" class=\"colab-df-container\">\n",
              "    <div>\n",
              "<style scoped>\n",
              "    .dataframe tbody tr th:only-of-type {\n",
              "        vertical-align: middle;\n",
              "    }\n",
              "\n",
              "    .dataframe tbody tr th {\n",
              "        vertical-align: top;\n",
              "    }\n",
              "\n",
              "    .dataframe thead th {\n",
              "        text-align: right;\n",
              "    }\n",
              "</style>\n",
              "<table border=\"1\" class=\"dataframe\">\n",
              "  <thead>\n",
              "    <tr style=\"text-align: right;\">\n",
              "      <th>Response</th>\n",
              "      <th>Non-Responder</th>\n",
              "      <th>Responder</th>\n",
              "      <th>odd_val</th>\n",
              "      <th>p_val</th>\n",
              "    </tr>\n",
              "    <tr>\n",
              "      <th>Hugo_Symbol</th>\n",
              "      <th></th>\n",
              "      <th></th>\n",
              "      <th></th>\n",
              "      <th></th>\n",
              "    </tr>\n",
              "  </thead>\n",
              "  <tbody>\n",
              "    <tr>\n",
              "      <th>ERBB3</th>\n",
              "      <td>5</td>\n",
              "      <td>6</td>\n",
              "      <td>1.263158</td>\n",
              "      <td>1.000000</td>\n",
              "    </tr>\n",
              "    <tr>\n",
              "      <th>ERBB4</th>\n",
              "      <td>9</td>\n",
              "      <td>9</td>\n",
              "      <td>1.000000</td>\n",
              "      <td>1.000000</td>\n",
              "    </tr>\n",
              "    <tr>\n",
              "      <th>ERCC2</th>\n",
              "      <td>0</td>\n",
              "      <td>9</td>\n",
              "      <td>inf</td>\n",
              "      <td>0.001631</td>\n",
              "    </tr>\n",
              "    <tr>\n",
              "      <th>FAT4</th>\n",
              "      <td>3</td>\n",
              "      <td>6</td>\n",
              "      <td>2.315789</td>\n",
              "      <td>0.463490</td>\n",
              "    </tr>\n",
              "    <tr>\n",
              "      <th>FRG1B</th>\n",
              "      <td>5</td>\n",
              "      <td>5</td>\n",
              "      <td>1.000000</td>\n",
              "      <td>1.000000</td>\n",
              "    </tr>\n",
              "    <tr>\n",
              "      <th>KMT2D</th>\n",
              "      <td>5</td>\n",
              "      <td>8</td>\n",
              "      <td>1.882353</td>\n",
              "      <td>0.520195</td>\n",
              "    </tr>\n",
              "    <tr>\n",
              "      <th>MUC16</th>\n",
              "      <td>11</td>\n",
              "      <td>9</td>\n",
              "      <td>0.715909</td>\n",
              "      <td>0.773287</td>\n",
              "    </tr>\n",
              "    <tr>\n",
              "      <th>PDE4DIP</th>\n",
              "      <td>3</td>\n",
              "      <td>5</td>\n",
              "      <td>1.833333</td>\n",
              "      <td>0.701939</td>\n",
              "    </tr>\n",
              "    <tr>\n",
              "      <th>PIK3CA</th>\n",
              "      <td>3</td>\n",
              "      <td>6</td>\n",
              "      <td>2.315789</td>\n",
              "      <td>0.463490</td>\n",
              "    </tr>\n",
              "    <tr>\n",
              "      <th>RB1</th>\n",
              "      <td>2</td>\n",
              "      <td>6</td>\n",
              "      <td>3.631579</td>\n",
              "      <td>0.246719</td>\n",
              "    </tr>\n",
              "    <tr>\n",
              "      <th>SYNE1</th>\n",
              "      <td>2</td>\n",
              "      <td>7</td>\n",
              "      <td>4.472222</td>\n",
              "      <td>0.138333</td>\n",
              "    </tr>\n",
              "    <tr>\n",
              "      <th>TP53</th>\n",
              "      <td>13</td>\n",
              "      <td>9</td>\n",
              "      <td>0.519231</td>\n",
              "      <td>0.393064</td>\n",
              "    </tr>\n",
              "    <tr>\n",
              "      <th>TTN</th>\n",
              "      <td>15</td>\n",
              "      <td>12</td>\n",
              "      <td>0.615385</td>\n",
              "      <td>0.570916</td>\n",
              "    </tr>\n",
              "    <tr>\n",
              "      <th>ZNF208</th>\n",
              "      <td>3</td>\n",
              "      <td>6</td>\n",
              "      <td>2.315789</td>\n",
              "      <td>0.463490</td>\n",
              "    </tr>\n",
              "    <tr>\n",
              "      <th>ZNF844</th>\n",
              "      <td>3</td>\n",
              "      <td>5</td>\n",
              "      <td>1.833333</td>\n",
              "      <td>0.701939</td>\n",
              "    </tr>\n",
              "  </tbody>\n",
              "</table>\n",
              "</div>\n",
              "    <div class=\"colab-df-buttons\">\n",
              "\n",
              "  <div class=\"colab-df-container\">\n",
              "    <button class=\"colab-df-convert\" onclick=\"convertToInteractive('df-b601c0fc-735a-4df7-9336-d95d7c6fe90d')\"\n",
              "            title=\"Convert this dataframe to an interactive table.\"\n",
              "            style=\"display:none;\">\n",
              "\n",
              "  <svg xmlns=\"http://www.w3.org/2000/svg\" height=\"24px\" viewBox=\"0 -960 960 960\">\n",
              "    <path d=\"M120-120v-720h720v720H120Zm60-500h600v-160H180v160Zm220 220h160v-160H400v160Zm0 220h160v-160H400v160ZM180-400h160v-160H180v160Zm440 0h160v-160H620v160ZM180-180h160v-160H180v160Zm440 0h160v-160H620v160Z\"/>\n",
              "  </svg>\n",
              "    </button>\n",
              "\n",
              "  <style>\n",
              "    .colab-df-container {\n",
              "      display:flex;\n",
              "      gap: 12px;\n",
              "    }\n",
              "\n",
              "    .colab-df-convert {\n",
              "      background-color: #E8F0FE;\n",
              "      border: none;\n",
              "      border-radius: 50%;\n",
              "      cursor: pointer;\n",
              "      display: none;\n",
              "      fill: #1967D2;\n",
              "      height: 32px;\n",
              "      padding: 0 0 0 0;\n",
              "      width: 32px;\n",
              "    }\n",
              "\n",
              "    .colab-df-convert:hover {\n",
              "      background-color: #E2EBFA;\n",
              "      box-shadow: 0px 1px 2px rgba(60, 64, 67, 0.3), 0px 1px 3px 1px rgba(60, 64, 67, 0.15);\n",
              "      fill: #174EA6;\n",
              "    }\n",
              "\n",
              "    .colab-df-buttons div {\n",
              "      margin-bottom: 4px;\n",
              "    }\n",
              "\n",
              "    [theme=dark] .colab-df-convert {\n",
              "      background-color: #3B4455;\n",
              "      fill: #D2E3FC;\n",
              "    }\n",
              "\n",
              "    [theme=dark] .colab-df-convert:hover {\n",
              "      background-color: #434B5C;\n",
              "      box-shadow: 0px 1px 3px 1px rgba(0, 0, 0, 0.15);\n",
              "      filter: drop-shadow(0px 1px 2px rgba(0, 0, 0, 0.3));\n",
              "      fill: #FFFFFF;\n",
              "    }\n",
              "  </style>\n",
              "\n",
              "    <script>\n",
              "      const buttonEl =\n",
              "        document.querySelector('#df-b601c0fc-735a-4df7-9336-d95d7c6fe90d button.colab-df-convert');\n",
              "      buttonEl.style.display =\n",
              "        google.colab.kernel.accessAllowed ? 'block' : 'none';\n",
              "\n",
              "      async function convertToInteractive(key) {\n",
              "        const element = document.querySelector('#df-b601c0fc-735a-4df7-9336-d95d7c6fe90d');\n",
              "        const dataTable =\n",
              "          await google.colab.kernel.invokeFunction('convertToInteractive',\n",
              "                                                    [key], {});\n",
              "        if (!dataTable) return;\n",
              "\n",
              "        const docLinkHtml = 'Like what you see? Visit the ' +\n",
              "          '<a target=\"_blank\" href=https://colab.research.google.com/notebooks/data_table.ipynb>data table notebook</a>'\n",
              "          + ' to learn more about interactive tables.';\n",
              "        element.innerHTML = '';\n",
              "        dataTable['output_type'] = 'display_data';\n",
              "        await google.colab.output.renderOutput(dataTable, element);\n",
              "        const docLink = document.createElement('div');\n",
              "        docLink.innerHTML = docLinkHtml;\n",
              "        element.appendChild(docLink);\n",
              "      }\n",
              "    </script>\n",
              "  </div>\n",
              "\n",
              "\n",
              "<div id=\"df-3b8c101c-b2ee-4313-8a69-7a5ca5e19c72\">\n",
              "  <button class=\"colab-df-quickchart\" onclick=\"quickchart('df-3b8c101c-b2ee-4313-8a69-7a5ca5e19c72')\"\n",
              "            title=\"Suggest charts\"\n",
              "            style=\"display:none;\">\n",
              "\n",
              "<svg xmlns=\"http://www.w3.org/2000/svg\" height=\"24px\"viewBox=\"0 0 24 24\"\n",
              "     width=\"24px\">\n",
              "    <g>\n",
              "        <path d=\"M19 3H5c-1.1 0-2 .9-2 2v14c0 1.1.9 2 2 2h14c1.1 0 2-.9 2-2V5c0-1.1-.9-2-2-2zM9 17H7v-7h2v7zm4 0h-2V7h2v10zm4 0h-2v-4h2v4z\"/>\n",
              "    </g>\n",
              "</svg>\n",
              "  </button>\n",
              "\n",
              "<style>\n",
              "  .colab-df-quickchart {\n",
              "      --bg-color: #E8F0FE;\n",
              "      --fill-color: #1967D2;\n",
              "      --hover-bg-color: #E2EBFA;\n",
              "      --hover-fill-color: #174EA6;\n",
              "      --disabled-fill-color: #AAA;\n",
              "      --disabled-bg-color: #DDD;\n",
              "  }\n",
              "\n",
              "  [theme=dark] .colab-df-quickchart {\n",
              "      --bg-color: #3B4455;\n",
              "      --fill-color: #D2E3FC;\n",
              "      --hover-bg-color: #434B5C;\n",
              "      --hover-fill-color: #FFFFFF;\n",
              "      --disabled-bg-color: #3B4455;\n",
              "      --disabled-fill-color: #666;\n",
              "  }\n",
              "\n",
              "  .colab-df-quickchart {\n",
              "    background-color: var(--bg-color);\n",
              "    border: none;\n",
              "    border-radius: 50%;\n",
              "    cursor: pointer;\n",
              "    display: none;\n",
              "    fill: var(--fill-color);\n",
              "    height: 32px;\n",
              "    padding: 0;\n",
              "    width: 32px;\n",
              "  }\n",
              "\n",
              "  .colab-df-quickchart:hover {\n",
              "    background-color: var(--hover-bg-color);\n",
              "    box-shadow: 0 1px 2px rgba(60, 64, 67, 0.3), 0 1px 3px 1px rgba(60, 64, 67, 0.15);\n",
              "    fill: var(--button-hover-fill-color);\n",
              "  }\n",
              "\n",
              "  .colab-df-quickchart-complete:disabled,\n",
              "  .colab-df-quickchart-complete:disabled:hover {\n",
              "    background-color: var(--disabled-bg-color);\n",
              "    fill: var(--disabled-fill-color);\n",
              "    box-shadow: none;\n",
              "  }\n",
              "\n",
              "  .colab-df-spinner {\n",
              "    border: 2px solid var(--fill-color);\n",
              "    border-color: transparent;\n",
              "    border-bottom-color: var(--fill-color);\n",
              "    animation:\n",
              "      spin 1s steps(1) infinite;\n",
              "  }\n",
              "\n",
              "  @keyframes spin {\n",
              "    0% {\n",
              "      border-color: transparent;\n",
              "      border-bottom-color: var(--fill-color);\n",
              "      border-left-color: var(--fill-color);\n",
              "    }\n",
              "    20% {\n",
              "      border-color: transparent;\n",
              "      border-left-color: var(--fill-color);\n",
              "      border-top-color: var(--fill-color);\n",
              "    }\n",
              "    30% {\n",
              "      border-color: transparent;\n",
              "      border-left-color: var(--fill-color);\n",
              "      border-top-color: var(--fill-color);\n",
              "      border-right-color: var(--fill-color);\n",
              "    }\n",
              "    40% {\n",
              "      border-color: transparent;\n",
              "      border-right-color: var(--fill-color);\n",
              "      border-top-color: var(--fill-color);\n",
              "    }\n",
              "    60% {\n",
              "      border-color: transparent;\n",
              "      border-right-color: var(--fill-color);\n",
              "    }\n",
              "    80% {\n",
              "      border-color: transparent;\n",
              "      border-right-color: var(--fill-color);\n",
              "      border-bottom-color: var(--fill-color);\n",
              "    }\n",
              "    90% {\n",
              "      border-color: transparent;\n",
              "      border-bottom-color: var(--fill-color);\n",
              "    }\n",
              "  }\n",
              "</style>\n",
              "\n",
              "  <script>\n",
              "    async function quickchart(key) {\n",
              "      const quickchartButtonEl =\n",
              "        document.querySelector('#' + key + ' button');\n",
              "      quickchartButtonEl.disabled = true;  // To prevent multiple clicks.\n",
              "      quickchartButtonEl.classList.add('colab-df-spinner');\n",
              "      try {\n",
              "        const charts = await google.colab.kernel.invokeFunction(\n",
              "            'suggestCharts', [key], {});\n",
              "      } catch (error) {\n",
              "        console.error('Error during call to suggestCharts:', error);\n",
              "      }\n",
              "      quickchartButtonEl.classList.remove('colab-df-spinner');\n",
              "      quickchartButtonEl.classList.add('colab-df-quickchart-complete');\n",
              "    }\n",
              "    (() => {\n",
              "      let quickchartButtonEl =\n",
              "        document.querySelector('#df-3b8c101c-b2ee-4313-8a69-7a5ca5e19c72 button');\n",
              "      quickchartButtonEl.style.display =\n",
              "        google.colab.kernel.accessAllowed ? 'block' : 'none';\n",
              "    })();\n",
              "  </script>\n",
              "</div>\n",
              "\n",
              "    </div>\n",
              "  </div>\n"
            ]
          },
          "metadata": {},
          "execution_count": 76
        }
      ]
    },
    {
      "cell_type": "markdown",
      "source": [
        "**We know ERCC2 acts as a significant factor for the repair mechanism\n",
        "\n",
        "*It provides instructions for making XPD protein, an essential part in TFIIH. Which is involved in transcription and repairing damaged DNA."
      ],
      "metadata": {
        "id": "KJhM3laquufy"
      }
    },
    {
      "cell_type": "code",
      "source": [
        "df_sig_en = dff4[dff4.index.isin(significant_genes)]\n",
        "#Maybe KMT2C could be filtered out\n",
        "#Our results didn't show any mutant genes significantly reduced\n",
        "df_sig_en"
      ],
      "metadata": {
        "colab": {
          "base_uri": "https://localhost:8080/",
          "height": 300
        },
        "id": "szjBDKUTvfEK",
        "outputId": "202b9a09-1ba5-4069-8537-1e4c6e4cfe7b"
      },
      "execution_count": 78,
      "outputs": [
        {
          "output_type": "execute_result",
          "data": {
            "text/plain": [
              "Response     Non-Responder  Responder   odd_val     p_val\n",
              "Hugo_Symbol                                              \n",
              "AKAP9                    0          6       inf  0.022290\n",
              "ERCC2                    0          9       inf  0.001631\n",
              "HECTD1                   0          6       inf  0.022290\n",
              "HERC1                    0          6       inf  0.022290\n",
              "KMT2C                    1          7  9.333333  0.048797\n",
              "MACF1                    0          6       inf  0.022290\n",
              "MROH2B                   0          6       inf  0.022290"
            ],
            "text/html": [
              "\n",
              "  <div id=\"df-f771c434-f2ff-468f-9a2d-9cfbb9a786c2\" class=\"colab-df-container\">\n",
              "    <div>\n",
              "<style scoped>\n",
              "    .dataframe tbody tr th:only-of-type {\n",
              "        vertical-align: middle;\n",
              "    }\n",
              "\n",
              "    .dataframe tbody tr th {\n",
              "        vertical-align: top;\n",
              "    }\n",
              "\n",
              "    .dataframe thead th {\n",
              "        text-align: right;\n",
              "    }\n",
              "</style>\n",
              "<table border=\"1\" class=\"dataframe\">\n",
              "  <thead>\n",
              "    <tr style=\"text-align: right;\">\n",
              "      <th>Response</th>\n",
              "      <th>Non-Responder</th>\n",
              "      <th>Responder</th>\n",
              "      <th>odd_val</th>\n",
              "      <th>p_val</th>\n",
              "    </tr>\n",
              "    <tr>\n",
              "      <th>Hugo_Symbol</th>\n",
              "      <th></th>\n",
              "      <th></th>\n",
              "      <th></th>\n",
              "      <th></th>\n",
              "    </tr>\n",
              "  </thead>\n",
              "  <tbody>\n",
              "    <tr>\n",
              "      <th>AKAP9</th>\n",
              "      <td>0</td>\n",
              "      <td>6</td>\n",
              "      <td>inf</td>\n",
              "      <td>0.022290</td>\n",
              "    </tr>\n",
              "    <tr>\n",
              "      <th>ERCC2</th>\n",
              "      <td>0</td>\n",
              "      <td>9</td>\n",
              "      <td>inf</td>\n",
              "      <td>0.001631</td>\n",
              "    </tr>\n",
              "    <tr>\n",
              "      <th>HECTD1</th>\n",
              "      <td>0</td>\n",
              "      <td>6</td>\n",
              "      <td>inf</td>\n",
              "      <td>0.022290</td>\n",
              "    </tr>\n",
              "    <tr>\n",
              "      <th>HERC1</th>\n",
              "      <td>0</td>\n",
              "      <td>6</td>\n",
              "      <td>inf</td>\n",
              "      <td>0.022290</td>\n",
              "    </tr>\n",
              "    <tr>\n",
              "      <th>KMT2C</th>\n",
              "      <td>1</td>\n",
              "      <td>7</td>\n",
              "      <td>9.333333</td>\n",
              "      <td>0.048797</td>\n",
              "    </tr>\n",
              "    <tr>\n",
              "      <th>MACF1</th>\n",
              "      <td>0</td>\n",
              "      <td>6</td>\n",
              "      <td>inf</td>\n",
              "      <td>0.022290</td>\n",
              "    </tr>\n",
              "    <tr>\n",
              "      <th>MROH2B</th>\n",
              "      <td>0</td>\n",
              "      <td>6</td>\n",
              "      <td>inf</td>\n",
              "      <td>0.022290</td>\n",
              "    </tr>\n",
              "  </tbody>\n",
              "</table>\n",
              "</div>\n",
              "    <div class=\"colab-df-buttons\">\n",
              "\n",
              "  <div class=\"colab-df-container\">\n",
              "    <button class=\"colab-df-convert\" onclick=\"convertToInteractive('df-f771c434-f2ff-468f-9a2d-9cfbb9a786c2')\"\n",
              "            title=\"Convert this dataframe to an interactive table.\"\n",
              "            style=\"display:none;\">\n",
              "\n",
              "  <svg xmlns=\"http://www.w3.org/2000/svg\" height=\"24px\" viewBox=\"0 -960 960 960\">\n",
              "    <path d=\"M120-120v-720h720v720H120Zm60-500h600v-160H180v160Zm220 220h160v-160H400v160Zm0 220h160v-160H400v160ZM180-400h160v-160H180v160Zm440 0h160v-160H620v160ZM180-180h160v-160H180v160Zm440 0h160v-160H620v160Z\"/>\n",
              "  </svg>\n",
              "    </button>\n",
              "\n",
              "  <style>\n",
              "    .colab-df-container {\n",
              "      display:flex;\n",
              "      gap: 12px;\n",
              "    }\n",
              "\n",
              "    .colab-df-convert {\n",
              "      background-color: #E8F0FE;\n",
              "      border: none;\n",
              "      border-radius: 50%;\n",
              "      cursor: pointer;\n",
              "      display: none;\n",
              "      fill: #1967D2;\n",
              "      height: 32px;\n",
              "      padding: 0 0 0 0;\n",
              "      width: 32px;\n",
              "    }\n",
              "\n",
              "    .colab-df-convert:hover {\n",
              "      background-color: #E2EBFA;\n",
              "      box-shadow: 0px 1px 2px rgba(60, 64, 67, 0.3), 0px 1px 3px 1px rgba(60, 64, 67, 0.15);\n",
              "      fill: #174EA6;\n",
              "    }\n",
              "\n",
              "    .colab-df-buttons div {\n",
              "      margin-bottom: 4px;\n",
              "    }\n",
              "\n",
              "    [theme=dark] .colab-df-convert {\n",
              "      background-color: #3B4455;\n",
              "      fill: #D2E3FC;\n",
              "    }\n",
              "\n",
              "    [theme=dark] .colab-df-convert:hover {\n",
              "      background-color: #434B5C;\n",
              "      box-shadow: 0px 1px 3px 1px rgba(0, 0, 0, 0.15);\n",
              "      filter: drop-shadow(0px 1px 2px rgba(0, 0, 0, 0.3));\n",
              "      fill: #FFFFFF;\n",
              "    }\n",
              "  </style>\n",
              "\n",
              "    <script>\n",
              "      const buttonEl =\n",
              "        document.querySelector('#df-f771c434-f2ff-468f-9a2d-9cfbb9a786c2 button.colab-df-convert');\n",
              "      buttonEl.style.display =\n",
              "        google.colab.kernel.accessAllowed ? 'block' : 'none';\n",
              "\n",
              "      async function convertToInteractive(key) {\n",
              "        const element = document.querySelector('#df-f771c434-f2ff-468f-9a2d-9cfbb9a786c2');\n",
              "        const dataTable =\n",
              "          await google.colab.kernel.invokeFunction('convertToInteractive',\n",
              "                                                    [key], {});\n",
              "        if (!dataTable) return;\n",
              "\n",
              "        const docLinkHtml = 'Like what you see? Visit the ' +\n",
              "          '<a target=\"_blank\" href=https://colab.research.google.com/notebooks/data_table.ipynb>data table notebook</a>'\n",
              "          + ' to learn more about interactive tables.';\n",
              "        element.innerHTML = '';\n",
              "        dataTable['output_type'] = 'display_data';\n",
              "        await google.colab.output.renderOutput(dataTable, element);\n",
              "        const docLink = document.createElement('div');\n",
              "        docLink.innerHTML = docLinkHtml;\n",
              "        element.appendChild(docLink);\n",
              "      }\n",
              "    </script>\n",
              "  </div>\n",
              "\n",
              "\n",
              "<div id=\"df-d668f164-e6dc-4eba-bb51-aee50879aff5\">\n",
              "  <button class=\"colab-df-quickchart\" onclick=\"quickchart('df-d668f164-e6dc-4eba-bb51-aee50879aff5')\"\n",
              "            title=\"Suggest charts\"\n",
              "            style=\"display:none;\">\n",
              "\n",
              "<svg xmlns=\"http://www.w3.org/2000/svg\" height=\"24px\"viewBox=\"0 0 24 24\"\n",
              "     width=\"24px\">\n",
              "    <g>\n",
              "        <path d=\"M19 3H5c-1.1 0-2 .9-2 2v14c0 1.1.9 2 2 2h14c1.1 0 2-.9 2-2V5c0-1.1-.9-2-2-2zM9 17H7v-7h2v7zm4 0h-2V7h2v10zm4 0h-2v-4h2v4z\"/>\n",
              "    </g>\n",
              "</svg>\n",
              "  </button>\n",
              "\n",
              "<style>\n",
              "  .colab-df-quickchart {\n",
              "      --bg-color: #E8F0FE;\n",
              "      --fill-color: #1967D2;\n",
              "      --hover-bg-color: #E2EBFA;\n",
              "      --hover-fill-color: #174EA6;\n",
              "      --disabled-fill-color: #AAA;\n",
              "      --disabled-bg-color: #DDD;\n",
              "  }\n",
              "\n",
              "  [theme=dark] .colab-df-quickchart {\n",
              "      --bg-color: #3B4455;\n",
              "      --fill-color: #D2E3FC;\n",
              "      --hover-bg-color: #434B5C;\n",
              "      --hover-fill-color: #FFFFFF;\n",
              "      --disabled-bg-color: #3B4455;\n",
              "      --disabled-fill-color: #666;\n",
              "  }\n",
              "\n",
              "  .colab-df-quickchart {\n",
              "    background-color: var(--bg-color);\n",
              "    border: none;\n",
              "    border-radius: 50%;\n",
              "    cursor: pointer;\n",
              "    display: none;\n",
              "    fill: var(--fill-color);\n",
              "    height: 32px;\n",
              "    padding: 0;\n",
              "    width: 32px;\n",
              "  }\n",
              "\n",
              "  .colab-df-quickchart:hover {\n",
              "    background-color: var(--hover-bg-color);\n",
              "    box-shadow: 0 1px 2px rgba(60, 64, 67, 0.3), 0 1px 3px 1px rgba(60, 64, 67, 0.15);\n",
              "    fill: var(--button-hover-fill-color);\n",
              "  }\n",
              "\n",
              "  .colab-df-quickchart-complete:disabled,\n",
              "  .colab-df-quickchart-complete:disabled:hover {\n",
              "    background-color: var(--disabled-bg-color);\n",
              "    fill: var(--disabled-fill-color);\n",
              "    box-shadow: none;\n",
              "  }\n",
              "\n",
              "  .colab-df-spinner {\n",
              "    border: 2px solid var(--fill-color);\n",
              "    border-color: transparent;\n",
              "    border-bottom-color: var(--fill-color);\n",
              "    animation:\n",
              "      spin 1s steps(1) infinite;\n",
              "  }\n",
              "\n",
              "  @keyframes spin {\n",
              "    0% {\n",
              "      border-color: transparent;\n",
              "      border-bottom-color: var(--fill-color);\n",
              "      border-left-color: var(--fill-color);\n",
              "    }\n",
              "    20% {\n",
              "      border-color: transparent;\n",
              "      border-left-color: var(--fill-color);\n",
              "      border-top-color: var(--fill-color);\n",
              "    }\n",
              "    30% {\n",
              "      border-color: transparent;\n",
              "      border-left-color: var(--fill-color);\n",
              "      border-top-color: var(--fill-color);\n",
              "      border-right-color: var(--fill-color);\n",
              "    }\n",
              "    40% {\n",
              "      border-color: transparent;\n",
              "      border-right-color: var(--fill-color);\n",
              "      border-top-color: var(--fill-color);\n",
              "    }\n",
              "    60% {\n",
              "      border-color: transparent;\n",
              "      border-right-color: var(--fill-color);\n",
              "    }\n",
              "    80% {\n",
              "      border-color: transparent;\n",
              "      border-right-color: var(--fill-color);\n",
              "      border-bottom-color: var(--fill-color);\n",
              "    }\n",
              "    90% {\n",
              "      border-color: transparent;\n",
              "      border-bottom-color: var(--fill-color);\n",
              "    }\n",
              "  }\n",
              "</style>\n",
              "\n",
              "  <script>\n",
              "    async function quickchart(key) {\n",
              "      const quickchartButtonEl =\n",
              "        document.querySelector('#' + key + ' button');\n",
              "      quickchartButtonEl.disabled = true;  // To prevent multiple clicks.\n",
              "      quickchartButtonEl.classList.add('colab-df-spinner');\n",
              "      try {\n",
              "        const charts = await google.colab.kernel.invokeFunction(\n",
              "            'suggestCharts', [key], {});\n",
              "      } catch (error) {\n",
              "        console.error('Error during call to suggestCharts:', error);\n",
              "      }\n",
              "      quickchartButtonEl.classList.remove('colab-df-spinner');\n",
              "      quickchartButtonEl.classList.add('colab-df-quickchart-complete');\n",
              "    }\n",
              "    (() => {\n",
              "      let quickchartButtonEl =\n",
              "        document.querySelector('#df-d668f164-e6dc-4eba-bb51-aee50879aff5 button');\n",
              "      quickchartButtonEl.style.display =\n",
              "        google.colab.kernel.accessAllowed ? 'block' : 'none';\n",
              "    })();\n",
              "  </script>\n",
              "</div>\n",
              "\n",
              "  <div id=\"id_01e2192e-4e68-41fb-87f2-130fb77f3488\">\n",
              "    <style>\n",
              "      .colab-df-generate {\n",
              "        background-color: #E8F0FE;\n",
              "        border: none;\n",
              "        border-radius: 50%;\n",
              "        cursor: pointer;\n",
              "        display: none;\n",
              "        fill: #1967D2;\n",
              "        height: 32px;\n",
              "        padding: 0 0 0 0;\n",
              "        width: 32px;\n",
              "      }\n",
              "\n",
              "      .colab-df-generate:hover {\n",
              "        background-color: #E2EBFA;\n",
              "        box-shadow: 0px 1px 2px rgba(60, 64, 67, 0.3), 0px 1px 3px 1px rgba(60, 64, 67, 0.15);\n",
              "        fill: #174EA6;\n",
              "      }\n",
              "\n",
              "      [theme=dark] .colab-df-generate {\n",
              "        background-color: #3B4455;\n",
              "        fill: #D2E3FC;\n",
              "      }\n",
              "\n",
              "      [theme=dark] .colab-df-generate:hover {\n",
              "        background-color: #434B5C;\n",
              "        box-shadow: 0px 1px 3px 1px rgba(0, 0, 0, 0.15);\n",
              "        filter: drop-shadow(0px 1px 2px rgba(0, 0, 0, 0.3));\n",
              "        fill: #FFFFFF;\n",
              "      }\n",
              "    </style>\n",
              "    <button class=\"colab-df-generate\" onclick=\"generateWithVariable('df_sig_en')\"\n",
              "            title=\"Generate code using this dataframe.\"\n",
              "            style=\"display:none;\">\n",
              "\n",
              "  <svg xmlns=\"http://www.w3.org/2000/svg\" height=\"24px\"viewBox=\"0 0 24 24\"\n",
              "       width=\"24px\">\n",
              "    <path d=\"M7,19H8.4L18.45,9,17,7.55,7,17.6ZM5,21V16.75L18.45,3.32a2,2,0,0,1,2.83,0l1.4,1.43a1.91,1.91,0,0,1,.58,1.4,1.91,1.91,0,0,1-.58,1.4L9.25,21ZM18.45,9,17,7.55Zm-12,3A5.31,5.31,0,0,0,4.9,8.1,5.31,5.31,0,0,0,1,6.5,5.31,5.31,0,0,0,4.9,4.9,5.31,5.31,0,0,0,6.5,1,5.31,5.31,0,0,0,8.1,4.9,5.31,5.31,0,0,0,12,6.5,5.46,5.46,0,0,0,6.5,12Z\"/>\n",
              "  </svg>\n",
              "    </button>\n",
              "    <script>\n",
              "      (() => {\n",
              "      const buttonEl =\n",
              "        document.querySelector('#id_01e2192e-4e68-41fb-87f2-130fb77f3488 button.colab-df-generate');\n",
              "      buttonEl.style.display =\n",
              "        google.colab.kernel.accessAllowed ? 'block' : 'none';\n",
              "\n",
              "      buttonEl.onclick = () => {\n",
              "        google.colab.notebook.generateWithVariable('df_sig_en');\n",
              "      }\n",
              "      })();\n",
              "    </script>\n",
              "  </div>\n",
              "\n",
              "    </div>\n",
              "  </div>\n"
            ]
          },
          "metadata": {},
          "execution_count": 78
        }
      ]
    },
    {
      "cell_type": "markdown",
      "source": [
        "#Scatter Plot with most significant genes vs no. of patients"
      ],
      "metadata": {
        "id": "lNl2j6-BHFDZ"
      }
    },
    {
      "cell_type": "code",
      "source": [
        "df_sig_en['Mutants'] = df_sig_en['Non-Responder'] + df_sig_en['Responder']\n",
        "plt.scatter(df_sig_en['Mutants'], df_sig_en.index, color='red',s = 50)\n",
        "plt.xlabel('Number of Mutated Patients')\n",
        "plt.ylabel('Enriched genes')\n",
        "# plt.legend()\n",
        "plt.title('Number of Patients per Mutated Gene')\n",
        "plt.show()"
      ],
      "metadata": {
        "colab": {
          "base_uri": "https://localhost:8080/",
          "height": 576
        },
        "id": "j-croiA_qWy4",
        "outputId": "d201084e-a4bc-467d-f434-2c788b87a754"
      },
      "execution_count": 79,
      "outputs": [
        {
          "output_type": "stream",
          "name": "stderr",
          "text": [
            "<ipython-input-79-261c41a46879>:1: SettingWithCopyWarning: \n",
            "A value is trying to be set on a copy of a slice from a DataFrame.\n",
            "Try using .loc[row_indexer,col_indexer] = value instead\n",
            "\n",
            "See the caveats in the documentation: https://pandas.pydata.org/pandas-docs/stable/user_guide/indexing.html#returning-a-view-versus-a-copy\n",
            "  df_sig_en['Mutants'] = df_sig_en['Non-Responder'] + df_sig_en['Responder']\n"
          ]
        },
        {
          "output_type": "display_data",
          "data": {
            "text/plain": [
              "<Figure size 640x480 with 1 Axes>"
            ],
            "image/png": "[encoded data removed]"
          },
          "metadata": {}
        }
      ]
    },
    {
      "cell_type": "code",
      "source": [
        "df_sig_en = df_sig_en.reset_index()\n",
        "df_sig_en"
      ],
      "metadata": {
        "colab": {
          "base_uri": "https://localhost:8080/",
          "height": 269
        },
        "id": "YoG1JCLCAkV9",
        "outputId": "4a8e3097-5fcc-462d-cdee-cbd6b52e04f7"
      },
      "execution_count": 80,
      "outputs": [
        {
          "output_type": "execute_result",
          "data": {
            "text/plain": [
              "Response Hugo_Symbol  Non-Responder  Responder   odd_val     p_val  Mutants\n",
              "0              AKAP9              0          6       inf  0.022290        6\n",
              "1              ERCC2              0          9       inf  0.001631        9\n",
              "2             HECTD1              0          6       inf  0.022290        6\n",
              "3              HERC1              0          6       inf  0.022290        6\n",
              "4              KMT2C              1          7  9.333333  0.048797        8\n",
              "5              MACF1              0          6       inf  0.022290        6\n",
              "6             MROH2B              0          6       inf  0.022290        6"
            ],
            "text/html": [
              "\n",
              "  <div id=\"df-0e4dace9-98ad-4afe-8190-c5877aeed879\" class=\"colab-df-container\">\n",
              "    <div>\n",
              "<style scoped>\n",
              "    .dataframe tbody tr th:only-of-type {\n",
              "        vertical-align: middle;\n",
              "    }\n",
              "\n",
              "    .dataframe tbody tr th {\n",
              "        vertical-align: top;\n",
              "    }\n",
              "\n",
              "    .dataframe thead th {\n",
              "        text-align: right;\n",
              "    }\n",
              "</style>\n",
              "<table border=\"1\" class=\"dataframe\">\n",
              "  <thead>\n",
              "    <tr style=\"text-align: right;\">\n",
              "      <th>Response</th>\n",
              "      <th>Hugo_Symbol</th>\n",
              "      <th>Non-Responder</th>\n",
              "      <th>Responder</th>\n",
              "      <th>odd_val</th>\n",
              "      <th>p_val</th>\n",
              "      <th>Mutants</th>\n",
              "    </tr>\n",
              "  </thead>\n",
              "  <tbody>\n",
              "    <tr>\n",
              "      <th>0</th>\n",
              "      <td>AKAP9</td>\n",
              "      <td>0</td>\n",
              "      <td>6</td>\n",
              "      <td>inf</td>\n",
              "      <td>0.022290</td>\n",
              "      <td>6</td>\n",
              "    </tr>\n",
              "    <tr>\n",
              "      <th>1</th>\n",
              "      <td>ERCC2</td>\n",
              "      <td>0</td>\n",
              "      <td>9</td>\n",
              "      <td>inf</td>\n",
              "      <td>0.001631</td>\n",
              "      <td>9</td>\n",
              "    </tr>\n",
              "    <tr>\n",
              "      <th>2</th>\n",
              "      <td>HECTD1</td>\n",
              "      <td>0</td>\n",
              "      <td>6</td>\n",
              "      <td>inf</td>\n",
              "      <td>0.022290</td>\n",
              "      <td>6</td>\n",
              "    </tr>\n",
              "    <tr>\n",
              "      <th>3</th>\n",
              "      <td>HERC1</td>\n",
              "      <td>0</td>\n",
              "      <td>6</td>\n",
              "      <td>inf</td>\n",
              "      <td>0.022290</td>\n",
              "      <td>6</td>\n",
              "    </tr>\n",
              "    <tr>\n",
              "      <th>4</th>\n",
              "      <td>KMT2C</td>\n",
              "      <td>1</td>\n",
              "      <td>7</td>\n",
              "      <td>9.333333</td>\n",
              "      <td>0.048797</td>\n",
              "      <td>8</td>\n",
              "    </tr>\n",
              "    <tr>\n",
              "      <th>5</th>\n",
              "      <td>MACF1</td>\n",
              "      <td>0</td>\n",
              "      <td>6</td>\n",
              "      <td>inf</td>\n",
              "      <td>0.022290</td>\n",
              "      <td>6</td>\n",
              "    </tr>\n",
              "    <tr>\n",
              "      <th>6</th>\n",
              "      <td>MROH2B</td>\n",
              "      <td>0</td>\n",
              "      <td>6</td>\n",
              "      <td>inf</td>\n",
              "      <td>0.022290</td>\n",
              "      <td>6</td>\n",
              "    </tr>\n",
              "  </tbody>\n",
              "</table>\n",
              "</div>\n",
              "    <div class=\"colab-df-buttons\">\n",
              "\n",
              "  <div class=\"colab-df-container\">\n",
              "    <button class=\"colab-df-convert\" onclick=\"convertToInteractive('df-0e4dace9-98ad-4afe-8190-c5877aeed879')\"\n",
              "            title=\"Convert this dataframe to an interactive table.\"\n",
              "            style=\"display:none;\">\n",
              "\n",
              "  <svg xmlns=\"http://www.w3.org/2000/svg\" height=\"24px\" viewBox=\"0 -960 960 960\">\n",
              "    <path d=\"M120-120v-720h720v720H120Zm60-500h600v-160H180v160Zm220 220h160v-160H400v160Zm0 220h160v-160H400v160ZM180-400h160v-160H180v160Zm440 0h160v-160H620v160ZM180-180h160v-160H180v160Zm440 0h160v-160H620v160Z\"/>\n",
              "  </svg>\n",
              "    </button>\n",
              "\n",
              "  <style>\n",
              "    .colab-df-container {\n",
              "      display:flex;\n",
              "      gap: 12px;\n",
              "    }\n",
              "\n",
              "    .colab-df-convert {\n",
              "      background-color: #E8F0FE;\n",
              "      border: none;\n",
              "      border-radius: 50%;\n",
              "      cursor: pointer;\n",
              "      display: none;\n",
              "      fill: #1967D2;\n",
              "      height: 32px;\n",
              "      padding: 0 0 0 0;\n",
              "      width: 32px;\n",
              "    }\n",
              "\n",
              "    .colab-df-convert:hover {\n",
              "      background-color: #E2EBFA;\n",
              "      box-shadow: 0px 1px 2px rgba(60, 64, 67, 0.3), 0px 1px 3px 1px rgba(60, 64, 67, 0.15);\n",
              "      fill: #174EA6;\n",
              "    }\n",
              "\n",
              "    .colab-df-buttons div {\n",
              "      margin-bottom: 4px;\n",
              "    }\n",
              "\n",
              "    [theme=dark] .colab-df-convert {\n",
              "      background-color: #3B4455;\n",
              "      fill: #D2E3FC;\n",
              "    }\n",
              "\n",
              "    [theme=dark] .colab-df-convert:hover {\n",
              "      background-color: #434B5C;\n",
              "      box-shadow: 0px 1px 3px 1px rgba(0, 0, 0, 0.15);\n",
              "      filter: drop-shadow(0px 1px 2px rgba(0, 0, 0, 0.3));\n",
              "      fill: #FFFFFF;\n",
              "    }\n",
              "  </style>\n",
              "\n",
              "    <script>\n",
              "      const buttonEl =\n",
              "        document.querySelector('#df-0e4dace9-98ad-4afe-8190-c5877aeed879 button.colab-df-convert');\n",
              "      buttonEl.style.display =\n",
              "        google.colab.kernel.accessAllowed ? 'block' : 'none';\n",
              "\n",
              "      async function convertToInteractive(key) {\n",
              "        const element = document.querySelector('#df-0e4dace9-98ad-4afe-8190-c5877aeed879');\n",
              "        const dataTable =\n",
              "          await google.colab.kernel.invokeFunction('convertToInteractive',\n",
              "                                                    [key], {});\n",
              "        if (!dataTable) return;\n",
              "\n",
              "        const docLinkHtml = 'Like what you see? Visit the ' +\n",
              "          '<a target=\"_blank\" href=https://colab.research.google.com/notebooks/data_table.ipynb>data table notebook</a>'\n",
              "          + ' to learn more about interactive tables.';\n",
              "        element.innerHTML = '';\n",
              "        dataTable['output_type'] = 'display_data';\n",
              "        await google.colab.output.renderOutput(dataTable, element);\n",
              "        const docLink = document.createElement('div');\n",
              "        docLink.innerHTML = docLinkHtml;\n",
              "        element.appendChild(docLink);\n",
              "      }\n",
              "    </script>\n",
              "  </div>\n",
              "\n",
              "\n",
              "<div id=\"df-d1dc0e2f-34ab-4be0-b297-df28db43a932\">\n",
              "  <button class=\"colab-df-quickchart\" onclick=\"quickchart('df-d1dc0e2f-34ab-4be0-b297-df28db43a932')\"\n",
              "            title=\"Suggest charts\"\n",
              "            style=\"display:none;\">\n",
              "\n",
              "<svg xmlns=\"http://www.w3.org/2000/svg\" height=\"24px\"viewBox=\"0 0 24 24\"\n",
              "     width=\"24px\">\n",
              "    <g>\n",
              "        <path d=\"M19 3H5c-1.1 0-2 .9-2 2v14c0 1.1.9 2 2 2h14c1.1 0 2-.9 2-2V5c0-1.1-.9-2-2-2zM9 17H7v-7h2v7zm4 0h-2V7h2v10zm4 0h-2v-4h2v4z\"/>\n",
              "    </g>\n",
              "</svg>\n",
              "  </button>\n",
              "\n",
              "<style>\n",
              "  .colab-df-quickchart {\n",
              "      --bg-color: #E8F0FE;\n",
              "      --fill-color: #1967D2;\n",
              "      --hover-bg-color: #E2EBFA;\n",
              "      --hover-fill-color: #174EA6;\n",
              "      --disabled-fill-color: #AAA;\n",
              "      --disabled-bg-color: #DDD;\n",
              "  }\n",
              "\n",
              "  [theme=dark] .colab-df-quickchart {\n",
              "      --bg-color: #3B4455;\n",
              "      --fill-color: #D2E3FC;\n",
              "      --hover-bg-color: #434B5C;\n",
              "      --hover-fill-color: #FFFFFF;\n",
              "      --disabled-bg-color: #3B4455;\n",
              "      --disabled-fill-color: #666;\n",
              "  }\n",
              "\n",
              "  .colab-df-quickchart {\n",
              "    background-color: var(--bg-color);\n",
              "    border: none;\n",
              "    border-radius: 50%;\n",
              "    cursor: pointer;\n",
              "    display: none;\n",
              "    fill: var(--fill-color);\n",
              "    height: 32px;\n",
              "    padding: 0;\n",
              "    width: 32px;\n",
              "  }\n",
              "\n",
              "  .colab-df-quickchart:hover {\n",
              "    background-color: var(--hover-bg-color);\n",
              "    box-shadow: 0 1px 2px rgba(60, 64, 67, 0.3), 0 1px 3px 1px rgba(60, 64, 67, 0.15);\n",
              "    fill: var(--button-hover-fill-color);\n",
              "  }\n",
              "\n",
              "  .colab-df-quickchart-complete:disabled,\n",
              "  .colab-df-quickchart-complete:disabled:hover {\n",
              "    background-color: var(--disabled-bg-color);\n",
              "    fill: var(--disabled-fill-color);\n",
              "    box-shadow: none;\n",
              "  }\n",
              "\n",
              "  .colab-df-spinner {\n",
              "    border: 2px solid var(--fill-color);\n",
              "    border-color: transparent;\n",
              "    border-bottom-color: var(--fill-color);\n",
              "    animation:\n",
              "      spin 1s steps(1) infinite;\n",
              "  }\n",
              "\n",
              "  @keyframes spin {\n",
              "    0% {\n",
              "      border-color: transparent;\n",
              "      border-bottom-color: var(--fill-color);\n",
              "      border-left-color: var(--fill-color);\n",
              "    }\n",
              "    20% {\n",
              "      border-color: transparent;\n",
              "      border-left-color: var(--fill-color);\n",
              "      border-top-color: var(--fill-color);\n",
              "    }\n",
              "    30% {\n",
              "      border-color: transparent;\n",
              "      border-left-color: var(--fill-color);\n",
              "      border-top-color: var(--fill-color);\n",
              "      border-right-color: var(--fill-color);\n",
              "    }\n",
              "    40% {\n",
              "      border-color: transparent;\n",
              "      border-right-color: var(--fill-color);\n",
              "      border-top-color: var(--fill-color);\n",
              "    }\n",
              "    60% {\n",
              "      border-color: transparent;\n",
              "      border-right-color: var(--fill-color);\n",
              "    }\n",
              "    80% {\n",
              "      border-color: transparent;\n",
              "      border-right-color: var(--fill-color);\n",
              "      border-bottom-color: var(--fill-color);\n",
              "    }\n",
              "    90% {\n",
              "      border-color: transparent;\n",
              "      border-bottom-color: var(--fill-color);\n",
              "    }\n",
              "  }\n",
              "</style>\n",
              "\n",
              "  <script>\n",
              "    async function quickchart(key) {\n",
              "      const quickchartButtonEl =\n",
              "        document.querySelector('#' + key + ' button');\n",
              "      quickchartButtonEl.disabled = true;  // To prevent multiple clicks.\n",
              "      quickchartButtonEl.classList.add('colab-df-spinner');\n",
              "      try {\n",
              "        const charts = await google.colab.kernel.invokeFunction(\n",
              "            'suggestCharts', [key], {});\n",
              "      } catch (error) {\n",
              "        console.error('Error during call to suggestCharts:', error);\n",
              "      }\n",
              "      quickchartButtonEl.classList.remove('colab-df-spinner');\n",
              "      quickchartButtonEl.classList.add('colab-df-quickchart-complete');\n",
              "    }\n",
              "    (() => {\n",
              "      let quickchartButtonEl =\n",
              "        document.querySelector('#df-d1dc0e2f-34ab-4be0-b297-df28db43a932 button');\n",
              "      quickchartButtonEl.style.display =\n",
              "        google.colab.kernel.accessAllowed ? 'block' : 'none';\n",
              "    })();\n",
              "  </script>\n",
              "</div>\n",
              "\n",
              "  <div id=\"id_3c4e3b89-a24a-484c-a88c-04c66ec9b20b\">\n",
              "    <style>\n",
              "      .colab-df-generate {\n",
              "        background-color: #E8F0FE;\n",
              "        border: none;\n",
              "        border-radius: 50%;\n",
              "        cursor: pointer;\n",
              "        display: none;\n",
              "        fill: #1967D2;\n",
              "        height: 32px;\n",
              "        padding: 0 0 0 0;\n",
              "        width: 32px;\n",
              "      }\n",
              "\n",
              "      .colab-df-generate:hover {\n",
              "        background-color: #E2EBFA;\n",
              "        box-shadow: 0px 1px 2px rgba(60, 64, 67, 0.3), 0px 1px 3px 1px rgba(60, 64, 67, 0.15);\n",
              "        fill: #174EA6;\n",
              "      }\n",
              "\n",
              "      [theme=dark] .colab-df-generate {\n",
              "        background-color: #3B4455;\n",
              "        fill: #D2E3FC;\n",
              "      }\n",
              "\n",
              "      [theme=dark] .colab-df-generate:hover {\n",
              "        background-color: #434B5C;\n",
              "        box-shadow: 0px 1px 3px 1px rgba(0, 0, 0, 0.15);\n",
              "        filter: drop-shadow(0px 1px 2px rgba(0, 0, 0, 0.3));\n",
              "        fill: #FFFFFF;\n",
              "      }\n",
              "    </style>\n",
              "    <button class=\"colab-df-generate\" onclick=\"generateWithVariable('df_sig_en')\"\n",
              "            title=\"Generate code using this dataframe.\"\n",
              "            style=\"display:none;\">\n",
              "\n",
              "  <svg xmlns=\"http://www.w3.org/2000/svg\" height=\"24px\"viewBox=\"0 0 24 24\"\n",
              "       width=\"24px\">\n",
              "    <path d=\"M7,19H8.4L18.45,9,17,7.55,7,17.6ZM5,21V16.75L18.45,3.32a2,2,0,0,1,2.83,0l1.4,1.43a1.91,1.91,0,0,1,.58,1.4,1.91,1.91,0,0,1-.58,1.4L9.25,21ZM18.45,9,17,7.55Zm-12,3A5.31,5.31,0,0,0,4.9,8.1,5.31,5.31,0,0,0,1,6.5,5.31,5.31,0,0,0,4.9,4.9,5.31,5.31,0,0,0,6.5,1,5.31,5.31,0,0,0,8.1,4.9,5.31,5.31,0,0,0,12,6.5,5.46,5.46,0,0,0,6.5,12Z\"/>\n",
              "  </svg>\n",
              "    </button>\n",
              "    <script>\n",
              "      (() => {\n",
              "      const buttonEl =\n",
              "        document.querySelector('#id_3c4e3b89-a24a-484c-a88c-04c66ec9b20b button.colab-df-generate');\n",
              "      buttonEl.style.display =\n",
              "        google.colab.kernel.accessAllowed ? 'block' : 'none';\n",
              "\n",
              "      buttonEl.onclick = () => {\n",
              "        google.colab.notebook.generateWithVariable('df_sig_en');\n",
              "      }\n",
              "      })();\n",
              "    </script>\n",
              "  </div>\n",
              "\n",
              "    </div>\n",
              "  </div>\n"
            ]
          },
          "metadata": {},
          "execution_count": 80
        }
      ]
    },
    {
      "cell_type": "code",
      "source": [
        "plt.figure(figsize=(10, 6))\n",
        "\n",
        "# handles = [plt.Line2D([0], [0], marker='o', color='w', markerfacecolor='red', markersize=10, linestyle='-'),\n",
        "#            plt.Line2D([0], [0], marker='o', color='w', markerfacecolor='black', markersize=10, linestyle='-')]\n",
        "# labels = ['Responder', 'Non-Responder']\n",
        "\n",
        "# plt.legend(handles=handles, labels=labels, loc='center left', bbox_to_anchor=(1, 0.5))\n",
        "\n",
        "df_sig_en.sort_values(by='Mutants', ascending=True, inplace=True)\n",
        "\n",
        "for i, txt in enumerate(df_sig_en['Hugo_Symbol']):\n",
        "    plt.annotate(txt, (df_sig_en['Responder'].iloc[i], df_sig_en['Hugo_Symbol'].iloc[i]), textcoords=\"offset points\", xytext=(-10,0), ha='center')\n",
        "\n",
        "plt.scatter(df_sig_en['Responder'], df_sig_en['Hugo_Symbol'], color='red',s = 50, label='Responder')\n",
        "plt.scatter(df_sig_en['Non-Responder'], df_sig_en['Hugo_Symbol'], color='black', s=50, label='Non-Responder')\n",
        "\n",
        "for i in range(len(df_sig_en)):\n",
        "    plt.plot([df_sig_en['Responder'].iloc[i], df_sig_en['Responder'].iloc[i]], [0, i], color='lightgray', linestyle='-', linewidth=1.25)\n",
        "    plt.plot([0, df_sig_en['Responder'].iloc[i]], [i,i], color='lightgray', linestyle='-.', linewidth=0.3)\n",
        "\n",
        "plt.xlabel('Number of Mutated Patients')\n",
        "plt.xticks(np.arange(0, 10, step=1))\n",
        "plt.ylabel('Enriched genes')\n",
        "plt.legend(loc='upper center')\n",
        "plt.title('Number of Patients per Mutated Gene')\n",
        "plt.show()"
      ],
      "metadata": {
        "colab": {
          "base_uri": "https://localhost:8080/",
          "height": 564
        },
        "id": "n_VtKR8LvXXv",
        "outputId": "fdefb740-1295-45d5-c1c5-b9978a0e8d73"
      },
      "execution_count": 81,
      "outputs": [
        {
          "output_type": "display_data",
          "data": {
            "text/plain": [
              "<Figure size 1000x600 with 1 Axes>"
            ],
            "image/png": "[encoded data removed]"
          },
          "metadata": {}
        }
      ]
    },
    {
      "cell_type": "markdown",
      "source": [
        "#6) wild-type versus mutant\n",
        "\n",
        "*wrt to most significant enriched gene ERCC2\n",
        "\n",
        "* How many wild-type vs mutant samples?\n",
        "\n",
        "* Plot the number of nonsynonymous mutations per megabase in the mutant vs. wild-type samples.\n",
        "\n",
        "* Is there a significant difference in the number of mutations between the two groups?"
      ],
      "metadata": {
        "id": "ymqEMjasHSNw"
      }
    },
    {
      "cell_type": "code",
      "source": [
        "#Number of wild-type vs Mutant for ERCC2\n",
        "#9 Responder patients are mutant and rest 41 are wild-type\n",
        "print(df_sig_en[df_sig_en['Hugo_Symbol']==Most_significant_enriched_gene]['Mutants'])"
      ],
      "metadata": {
        "id": "9USsbASjLTL8",
        "colab": {
          "base_uri": "https://localhost:8080/",
          "height": 0
        },
        "outputId": "ac19efc6-96c9-40e2-da14-ced52a00432c"
      },
      "execution_count": 103,
      "outputs": [
        {
          "output_type": "stream",
          "name": "stdout",
          "text": [
            "1    9\n",
            "Name: Mutants, dtype: int64\n"
          ]
        }
      ]
    },
    {
      "cell_type": "code",
      "source": [
        "ercc2_p_list = df3[df3['Hugo_Symbol']=='ERCC2']['Tumor_Sample_Barcode'].unique()\n",
        "ercc2_NP_list = df1[~df1['Tumor_Sample_Barcode'].isin(ercc2_p_list)]['Tumor_Sample_Barcode'].tolist()\n",
        "\n",
        "len(ercc2_NP_list)"
      ],
      "metadata": {
        "id": "bx18r_SRmNCJ",
        "colab": {
          "base_uri": "https://localhost:8080/",
          "height": 0
        },
        "outputId": "d29834ed-42e2-452e-e97c-277f2eac58d6"
      },
      "execution_count": 97,
      "outputs": [
        {
          "output_type": "execute_result",
          "data": {
            "text/plain": [
              "41"
            ]
          },
          "metadata": {},
          "execution_count": 97
        }
      ]
    },
    {
      "cell_type": "code",
      "source": [
        "len(ercc2_p_list)"
      ],
      "metadata": {
        "colab": {
          "base_uri": "https://localhost:8080/",
          "height": 0
        },
        "id": "yxUSJVzFbPj_",
        "outputId": "d50a6091-9dcf-42d5-94e8-773299ff4f00"
      },
      "execution_count": 102,
      "outputs": [
        {
          "output_type": "execute_result",
          "data": {
            "text/plain": [
              "9"
            ]
          },
          "metadata": {},
          "execution_count": 102
        }
      ]
    },
    {
      "cell_type": "code",
      "source": [
        "ercc2_mut_list = []\n",
        "ercc2_mut_list.append(df1[df1['Tumor_Sample_Barcode'].isin(ercc2_p_list)].Nonsynonymous_mutations_per_Mb.values)\n",
        "ercc2_NPmut_list = []\n",
        "ercc2_NPmut_list.append(df1[df1['Tumor_Sample_Barcode'].isin(ercc2_NP_list)].Nonsynonymous_mutations_per_Mb.values)"
      ],
      "metadata": {
        "id": "J_lzMyi6UI_W"
      },
      "execution_count": 105,
      "outputs": []
    },
    {
      "cell_type": "code",
      "source": [
        "ercc2_NPmut_list[0]"
      ],
      "metadata": {
        "colab": {
          "base_uri": "https://localhost:8080/",
          "height": 0
        },
        "id": "d4IRVX3IMTyL",
        "outputId": "b839f034-f1eb-4892-de22-36e94c08d8d0"
      },
      "execution_count": 107,
      "outputs": [
        {
          "output_type": "execute_result",
          "data": {
            "text/plain": [
              "array([ 6.77,  6.14,  2.84,  5.  ,  8.15,  6.69,  2.64,  4.48,  0.12,\n",
              "        9.16,  3.79,  3.1 ,  4.39, 19.3 ,  4.14,  4.25,  1.83,  1.84,\n",
              "        7.44,  2.61, 20.8 ,  3.34,  2.1 ,  2.87,  7.18,  2.76,  1.69,\n",
              "        8.47,  0.89,  6.  ,  3.34,  4.05,  3.53,  3.88, 11.1 ,  3.33,\n",
              "        4.19,  2.84,  2.33,  2.27,  5.6 ])"
            ]
          },
          "metadata": {},
          "execution_count": 107
        }
      ]
    },
    {
      "cell_type": "code",
      "source": [
        "df1['Type'] = df1['Tumor_Sample_Barcode'].apply(lambda row: 'Mutant' if row in ercc2_p_list else 'Wild_Type')"
      ],
      "metadata": {
        "id": "3VmfIpqsumWG"
      },
      "execution_count": 87,
      "outputs": []
    },
    {
      "cell_type": "code",
      "source": [
        "df1['Type'].value_counts()"
      ],
      "metadata": {
        "colab": {
          "base_uri": "https://localhost:8080/",
          "height": 0
        },
        "id": "nxzlxS_0wDgL",
        "outputId": "7d8f00db-2dcb-467a-9c79-c2672f810b48"
      },
      "execution_count": 88,
      "outputs": [
        {
          "output_type": "execute_result",
          "data": {
            "text/plain": [
              "Wild_Type    41\n",
              "Mutant        9\n",
              "Name: Type, dtype: int64"
            ]
          },
          "metadata": {},
          "execution_count": 88
        }
      ]
    },
    {
      "cell_type": "code",
      "source": [
        "#Lets check for outliers and general distribution\n",
        "import statistics\n",
        "\n",
        "plt.figure(figsize=(10, 6))\n",
        "\n",
        "plt.axhline(y=statistics.median(ercc2_mut_list[0]) , color='orange', linestyle='--', label='Median_Mutant')\n",
        "plt.axhline(y=statistics.median(ercc2_NPmut_list[0]) , color='blue', linestyle='--', label='Median_WT')\n",
        "\n",
        "plt.arrow(0.5, 3.88, 0, 6.72, shape='full', lw=0, length_includes_head=True, head_length = 0.25, head_width=0.05)\n",
        "plt.text(0.5, 7, f'Median Gap: {6.72:.2f}', color='black', horizontalalignment='center')\n",
        "\n",
        "\n",
        "sns.boxplot(x='Type', y='Nonsynonymous_mutations_per_Mb', data=df1)\n",
        "plt.title('Nonsynonymous_mutations_per_Mb for Wild-Type vs Mutant (ERCC2)')\n",
        "plt.legend()\n",
        "plt.show()\n"
      ],
      "metadata": {
        "colab": {
          "base_uri": "https://localhost:8080/",
          "height": 564
        },
        "id": "64P6HGh4TjwZ",
        "outputId": "71965782-5267-4ff7-8bd2-ed92cd976295"
      },
      "execution_count": 89,
      "outputs": [
        {
          "output_type": "display_data",
          "data": {
            "text/plain": [
              "<Figure size 1000x600 with 1 Axes>"
            ],
            "image/png": "[encoded data removed]"
          },
          "metadata": {}
        }
      ]
    },
    {
      "cell_type": "code",
      "source": [
        "sns.histplot(ercc2_mut_list[0], label='Mutant', kde = True)\n",
        "sns.histplot(ercc2_NPmut_list[0], label='Wild_Type', kde = True)\n",
        "\n",
        "plt.xlabel('Nonsynonymous_mutations_per_Mb')\n",
        "plt.ylabel('Sample Frequency')\n",
        "plt.title('Distribution analysis: Nonsynonymous_mutations_per_Mb Mutant vs WT (ERCC2)')\n",
        "plt.legend()\n",
        "plt.show()"
      ],
      "metadata": {
        "colab": {
          "base_uri": "https://localhost:8080/",
          "height": 472
        },
        "id": "-OO8gj1tzdG1",
        "outputId": "b2b564f0-9f6d-4094-f16a-c09bfd4be37b"
      },
      "execution_count": 108,
      "outputs": [
        {
          "output_type": "display_data",
          "data": {
            "text/plain": [
              "<Figure size 640x480 with 1 Axes>"
            ],
            "image/png": "[encoded data removed]"
          },
          "metadata": {}
        }
      ]
    },
    {
      "cell_type": "markdown",
      "source": [
        "* Since our data isn't exactly normal and fails normality test, lets go with Mann-Whitney U test.   \n"
      ],
      "metadata": {
        "id": "f3hbJgeoylV3"
      }
    },
    {
      "cell_type": "code",
      "source": [
        "from scipy.stats import shapiro, mannwhitneyu\n",
        "\n",
        "# Shapiro-Wilk test for normality\n",
        "_, p_value1 = shapiro(ercc2_mut_list[0])\n",
        "_, p_value2 = shapiro(ercc2_NPmut_list[0])\n",
        "\n",
        "# Print results\n",
        "print(f'Shapiro-Wilk p-value for Mutant: {p_value1}')\n",
        "print(f'Shapiro-Wilk p-value for Wild-type: {p_value2}')"
      ],
      "metadata": {
        "colab": {
          "base_uri": "https://localhost:8080/",
          "height": 0
        },
        "id": "Du83rFrjTTs7",
        "outputId": "96693c42-a4a1-457c-d0b5-6c7269ec5973"
      },
      "execution_count": 91,
      "outputs": [
        {
          "output_type": "stream",
          "name": "stdout",
          "text": [
            "Shapiro-Wilk p-value for Mutant: 0.7412866950035095\n",
            "Shapiro-Wilk p-value for Wild-type: 4.251704979196802e-07\n"
          ]
        }
      ]
    },
    {
      "cell_type": "code",
      "source": [
        "#We could remove the outliers present in the boxplot if needed\n",
        "#But ideally only after holistic analysis of patient data\n",
        "#We could try data transformation as well but not needed at the present\n",
        "\n",
        "statistic, p_value = mannwhitneyu(ercc2_mut_list[0], ercc2_NPmut_list[0])\n",
        "print(statistic, p_value)"
      ],
      "metadata": {
        "colab": {
          "base_uri": "https://localhost:8080/",
          "height": 0
        },
        "id": "a6O-1PzAyFmQ",
        "outputId": "0bd40f09-0cff-47a4-c3ba-ff89299bee7b"
      },
      "execution_count": 92,
      "outputs": [
        {
          "output_type": "stream",
          "name": "stdout",
          "text": [
            "309.5 0.0016661236107742337\n"
          ]
        }
      ]
    },
    {
      "cell_type": "markdown",
      "source": [
        "#without outliers"
      ],
      "metadata": {
        "id": "4tDoJaEkYING"
      }
    },
    {
      "cell_type": "code",
      "source": [
        "data = ercc2_mut_list[0]\n",
        "Q3 = np.quantile(data, 0.75)\n",
        "Q1 = np.quantile(data, 0.25)\n",
        "IQR = Q3 - Q1\n",
        "\n",
        "lower_range = Q1 - 1.5 * IQR\n",
        "upper_range = Q3 + 1.5 * IQR\n",
        "ercc2_mut_list = [x for x in data if ((x > lower_range) & (x < upper_range))]\n",
        "\n",
        "data = ercc2_NPmut_list[0]\n",
        "Q3 = np.quantile(data, 0.75)\n",
        "Q1 = np.quantile(data, 0.25)\n",
        "IQR = Q3 - Q1\n",
        "\n",
        "lower_range = Q1 - 1.5 * IQR\n",
        "upper_range = Q3 + 1.5 * IQR\n",
        "ercc2_NPmut_list = [x for x in data if ((x > lower_range) & (x < upper_range))]"
      ],
      "metadata": {
        "id": "kuny6EthyFpT"
      },
      "execution_count": 93,
      "outputs": []
    },
    {
      "cell_type": "code",
      "source": [
        "# Shapiro-Wilk test for normality\n",
        "_, p_value1 = shapiro(ercc2_mut_list)\n",
        "_, p_value2 = shapiro(ercc2_NPmut_list)\n",
        "\n",
        "# Print results\n",
        "print(f'Shapiro-Wilk p-value for Mutant: {p_value1}')\n",
        "print(f'Shapiro-Wilk p-value for Wild-type: {p_value2}')\n",
        "\n",
        "statistic, p_value = mannwhitneyu(ercc2_mut_list, ercc2_NPmut_list)\n",
        "print(statistic, p_value)"
      ],
      "metadata": {
        "colab": {
          "base_uri": "https://localhost:8080/",
          "height": 0
        },
        "id": "oeo8p6LOXFdl",
        "outputId": "f11d3709-ca4d-4f72-9a93-c3478ab00081"
      },
      "execution_count": 94,
      "outputs": [
        {
          "output_type": "stream",
          "name": "stdout",
          "text": [
            "Shapiro-Wilk p-value for Mutant: 0.9423905611038208\n",
            "Shapiro-Wilk p-value for Wild-type: 0.034832604229450226\n",
            "264.0 0.00010270783991648893\n"
          ]
        }
      ]
    },
    {
      "cell_type": "code",
      "source": [
        "#STILL Significantly different and not normal distribution"
      ],
      "metadata": {
        "id": "zfJZmi39XFhU"
      },
      "execution_count": 95,
      "outputs": []
    },
    {
      "cell_type": "code",
      "source": [],
      "metadata": {
        "id": "jk_aMvbnXFjv"
      },
      "execution_count": 95,
      "outputs": []
    },
    {
      "cell_type": "code",
      "source": [],
      "metadata": {
        "id": "bpdy379TY6Ui"
      },
      "execution_count": null,
      "outputs": []
    },
    {
      "cell_type": "markdown",
      "source": [
        "#We conclude:\n",
        "* The difference in non-synonymous mutations in the two groups segregated by mutant and wild-type of ERCC2 gene (most significantly enriched gene) is significantly different due to \"p<0.05\".\n",
        "* The 7 mutated genes discovered are significantly associated with the treatment response.\n",
        "* Use Bioconductor package like maftools when possible :D"
      ],
      "metadata": {
        "id": "uQ1OGrdSYbrN"
      }
    },
    {
      "cell_type": "markdown",
      "source": [
        "#Conclusions and Improvements in Analysis"
      ],
      "metadata": {
        "id": "TQtHqbuND2IW"
      }
    },
    {
      "cell_type": "markdown",
      "source": [
        "* The VAF of both the groups, responders and non-responders is below 0.5.\n",
        "In diploid species ideally close to 0.5 expected for a medium stage tumor assuming purity and sequencing quality and region selectivity is good.\n",
        "Indiviual patient's VAF or smaller groups might give more specific insights and an understanding of the heterogenous mutations level.\n",
        "Based on the cancer type and location, such as colorectal cancer and with some more analysis, we may be able to comment that the tumor is in initial stages of development with Darwinian evolution due to considerable intratumoral heterogeneity, arising from multiple sub-clonal mutations at initial stages (Saito et al. 2018) https://www.ncbi.nlm.nih.gov/pmc/articles/PMC6056524/\n",
        "\n",
        "  We may be able to make a comment that a considerable portion of mutations are passenger mutations and hence are not being selectively favoured in general and resulting in low VAF in the sample population.\n",
        "  The impact of treatment on the VAF of mutation at the gene level in the groups cannot be significantly associated.\n",
        "  We can potentially form more hypothesis and conclusions.\n",
        "\n",
        "* It can be concluded that the treatment resulted in enriching each of the 7 mutant genes in a subset of responder patients (statistically significant in sample population, responder vs non-responder), implying resistance generated by subclonal mutations, at the sample collection time, within those patients.\n",
        "The treatment's impact in reducing mutants at gene level was not significantly considerable for any of the patients. (Perhaps one should perform one-tailed t-test for this to strengthen argument)\n",
        "\n",
        "* It would seem total mutation load post-treatment may have been one of the factors for classifying Response and Non-Response Patients for which the argument can be strengthened with a t-test/Mann-Whitney U test.\n",
        "\n",
        "* In the gene analysis with most mutations and general presence per patient we found that these 5 genes SPEN, KMT2C, ZNF91, DST, TYRO3 are dominant in certain groups of patients and can be further evaluated for more information about any unique mutational signatures, potentially de-novo discoveries and personalized treatment recommendations.\n",
        "\n",
        "* In statistical enrichment test post-treatment, we might be able to add some weightage to consider number of mutations level present in each gene in Response or Non-response patients.\n",
        "We could include at Variance Allele Frequency (VAF) to filter our data and also in our analysis at different levels such as at mutation per gene per patient per group. In some cases, it might even indicate potential germ-line mutations being present.\n",
        "\n",
        "* ERCC2 was estimated to the most significantly enriched mutant gene being present in 9 Responders and 0 Non-Responders. It acts as a significant factor for the repair mechanism by provides instructions for making XPD protein, an essential part in TFIIH. Which is involved in transcription and repairing damaged DNA. Hence, a basis for multiple cancer types and a potential driver gene. (https://medlineplus.gov/genetics/gene/ercc2/)\n",
        "The number of mutant sample observed is 9 and remaining patients are dominantly considered to have wild-type copy of the gene, hence 41 wild-type samples.\n",
        "\n",
        "* The difference in non-synonymous mutations in the two groups segregated by mutant and wild-type of ERCC2 gene (most significantly enriched gene) is statistically significant due to \"p < 0.05\". Further potential importance/significane of ERCC2 gene in non-synonymous mutation load in patients can be done with one-tailed Mann-Whitney U test at the gene level (individual gene based mutations, link to other passenger and driver mutations in same and other genes, etc.) on different combinations of sample population based on requirements.\n",
        "\n",
        "* We could apply a range of Machine Learning models in supervised and unsupervised manner above, based on our specific query and identify unique insights and more complex relations among the features at multiple scales/levels (eg: patient, groups, etc.).\n",
        "\n",
        "* There are still a number of analysis we could perform, including locus based mutations analysis to identify hotspots and driver mutations. We could perform functional and pathway analysis to understand the implications of mutations and their significance and other relevant mutations linked with them. Identifying gene-pair co-occurrence frequency. Perform analysis with mutation tables such as co-onco plots. Observe at entire protein change across sample population per gene and per patient/group and compare it with reference datasets.\n",
        "Using methods like Gene Set Enrichment Analysis to get analysis with a broader picture to analyze patterns and understand the functional significance of gene expression. Adding further clinical data.\n",
        "We could utilize mutational signatures and understand further about the cancer's potential evolution and detect its subtype.\n",
        "Utilize already referenced and filtered data such as from \"TCGA\" specific/similar/even contrasting to our case and identify new insights and hypothesis and accelerate our analysis and discovery.\n",
        "We could also perform further analysis based on germ-line (driver) mutations vs somatic (driver) mutations to further increase our predictive and causal analysis, by comparing germ (ideally) cells with tumor cell samples and adapt and improve our treatment results.\n",
        "\n",
        "* Lastly, after having certain amount of data on sample population for different cancer types (such mutational signatures, mutation types, omics data and other important features), we need to shift from real-time situational analytics and basic predictive analytics to real-time advanced predictive analytics utilizing Artificial Intelligence (Machine Learning + Deep Learning + Natural Language Processing + Computer Vision + Reinforcement Learning + Geometric Deep Learning, and further advancements) enabling significant enhancement in knowledge and deeper insights, cheaper and automated base treatment solutions and analysis, treating relapses and clonal and sub-clonal driver mutations before they may even occur and several other benefits."
      ],
      "metadata": {
        "id": "NWRDDeXxEBpA"
      }
    },
    {
      "cell_type": "code",
      "source": [],
      "metadata": {
        "id": "EuxuT9raY6XE"
      },
      "execution_count": null,
      "outputs": []
    },
    {
      "cell_type": "code",
      "source": [],
      "metadata": {
        "id": "HL78wIUxY6Zg"
      },
      "execution_count": null,
      "outputs": []
    }
  ]
}