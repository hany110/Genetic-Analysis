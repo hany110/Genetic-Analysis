{
  "nbformat": 4,
  "nbformat_minor": 0,
  "metadata": {
    "colab": {
      "provenance": []
    },
    "kernelspec": {
      "name": "python3",
      "display_name": "Python 3"
    },
    "language_info": {
      "name": "python"
    }
  },
  "cells": [
    {
      "cell_type": "code",
      "source": [],
      "metadata": {
        "id": "oNM20EXMnaVo"
      },
      "execution_count": null,
      "outputs": []
    },
    {
      "cell_type": "code",
      "execution_count": 30,
      "metadata": {
        "colab": {
          "base_uri": "https://localhost:8080/",
          "height": 485
        },
        "id": "IP8HeQArfoVb",
        "outputId": "35516158-d14c-4385-c824-cf64c1b8a827"
      },
      "outputs": [
        {
          "output_type": "stream",
          "name": "stdout",
          "text": [
            "[[0.38554255947168, 0.11215771753303622, 0.11207987077438063, 0.39021985222090316], [0.38689571977481907, 0.1115628630149227, 0.11236708068984005, 0.3891743365204182], [0.38807664063021563, 0.11151167189621025, 0.11440461089970402, 0.38600707657387007], [0.3886646495928059, 0.11327575818437437, 0.11330815230419375, 0.384751439918626]]\n",
            "[[0.4417078767898122, 0.0757749119234623, 0.11052716635961085, 0.3719900449271146], [0.38763318621550535, 0.1665552137666622, 0.06834291828273371, 0.37746868173509873], [0.40685306525446546, 0.16746701373305808, 0.16495377434700656, 0.2607261466654699], [0.3302158646919093, 0.1183102065187762, 0.11085943483170861, 0.4406144939576059]]\n"
          ]
        },
        {
          "output_type": "display_data",
          "data": {
            "text/plain": [
              "<Figure size 640x480 with 1 Axes>"
            ],
            "image/png": "[encoded data removed]"
          },
          "metadata": {}
        }
      ],
      "source": [
        "#student version\n",
        "\n",
        "import math\n",
        "import matplotlib.pyplot as plt  #if you don't have matplotolib installed (this line gives you an error)\n",
        "                                 #you can comment out the line that starts with plt. and plot a histogram with the data output\n",
        "\n",
        "baseIDx = {\"A\":0,\"C\":1, \"G\":2,\"T\":3}\n",
        "\n",
        "def main():\n",
        "\n",
        "    spaciiFA = \"MSpacii.fa\"\n",
        "    pathogenFA = \"Pathogen.fa\"\n",
        "    spaciiFA_T = \"MSpacii_training.fa\"\n",
        "    pathogenFA_T = \"Pathogen_training.fa\"    \n",
        "    \n",
        "    spaciiID2seq = getSeq(spaciiFA)\n",
        "    pathogenID2seq = getSeq(pathogenFA)\n",
        "    \n",
        "    spaciiTrainModel = [[0,0,0,0],[0,0,0,0],[0,0,0,0],[0,0,0,0]]\n",
        "    pathTrainModel = [[0,0,0,0],[0,0,0,0],[0,0,0,0],[0,0,0,0]]\n",
        "\n",
        "    seq = {'A':0,'C':1,'G':2,'T':3}\n",
        "    \n",
        "    spaciiTrainModel = trainModel(spaciiTrainModel, spaciiFA_T)\n",
        "    pathTrainModel = trainModel(pathTrainModel, pathogenFA_T)\n",
        "    \n",
        "    markovScoresSpacii = []\n",
        "    markovScoresPath = []\n",
        "\n",
        "    for ID in spaciiID2seq.keys():\n",
        "         markovScoresSpacii.append(getLogLike(spaciiTrainModel,pathTrainModel,spaciiID2seq[ID]))\n",
        "    for ID in pathogenID2seq.keys():\n",
        "         markovScoresPath.append(getLogLike(spaciiTrainModel,pathTrainModel,pathogenID2seq[ID]))\n",
        "    \n",
        "    ####----------------------output-------------------------    \n",
        "    plt.hist([markovScoresPath, markovScoresSpacii],bins=20,label=['pathogen','spacii'],rwidth=1,density=True)\n",
        "    scoresOutputText(markovScoresSpacii,markovScoresPath)\n",
        "    ####----------------------output-------------------------\n",
        "\n",
        "def scoresOutputText(markovScoresSpacii,markovScoresPath):\n",
        "    f = open(\"results.tab\", \"w\")\n",
        "    f.write(\"SpaciiScores\\tpathogenScores\\n\")\n",
        "    for i in range (len(markovScoresSpacii)):\n",
        "        f.write(str(markovScoresSpacii[i])+\"\\t\"+str(markovScoresPath[i])+\"\\n\")\n",
        "    f.close()\n",
        "    \n",
        "def getLogLike(model1, model2,seq_e): #takes in the two trained models and the sequence that needs to be scored\n",
        "\n",
        "    m1=0\n",
        "    m2=0\n",
        "\n",
        "    score = 0\n",
        "\n",
        "    i=1\n",
        "    while i < len(seq_e):\n",
        "      m1 += math.log(model1[seq[seq_e[i-1]]][seq[seq_e[i]]])\n",
        "      m2 += math.log(model2[seq[seq_e[i-1]]][seq[seq_e[i]]])\n",
        "      i+=1\n",
        "    \n",
        "    #Please complete this function. This should return the log-likelihood of the two models\n",
        "    #with Pmod1 and Pmod2 as the probabilities of the two models.\n",
        "    \n",
        "    score = m1-m2 #space-pathogen\n",
        "\n",
        "    return score\n",
        "    \n",
        "def trainModel(model, data):\n",
        "\n",
        "    #Please complete this function. This should look at all the training data and calculate how many\n",
        "    #dinucleotides preceed each base similar to what was outlined on the slides\n",
        "    #The ouput of the function should be a 4 x 4 matrix model where each row represents the probability\n",
        "    #of seing base x given the previous base was y. (each row should sum to 1)\n",
        "        \n",
        "    d = getSeq(data)\n",
        "\n",
        "    for k in d.values():\n",
        "      for i in range(1,len(k)):\n",
        "        model[seq[k[i-1]]][seq[k[i]]]+=1\n",
        "\n",
        "\n",
        "    for i in range(len(model)):\n",
        "      s = sum(model[i])\n",
        "      for k in range(len(model)):\n",
        "        model[i][k] = model[i][k]/s\n",
        "    \n",
        "    print(model)\n",
        "    return model  \n",
        "    \n",
        "\n",
        "def getSeq(filename):\n",
        "    f = open(filename)\n",
        "    id2seq = {}\n",
        "    currkey = \"\"\n",
        "    for line in f:\n",
        "        if line.find(\">\") == 0:\n",
        "            currkey = line.rstrip()[1:]\n",
        "            id2seq[currkey] = \"\"\n",
        "        else:            \n",
        "            id2seq[currkey] = id2seq[currkey] + line.rstrip()\n",
        "    return id2seq\n",
        "main()"
      ]
    },
    {
      "cell_type": "code",
      "source": [],
      "metadata": {
        "id": "Y7FODJDhnb1u"
      },
      "execution_count": null,
      "outputs": []
    },
    {
      "cell_type": "code",
      "source": [],
      "metadata": {
        "id": "W-4OJlbDnb69"
      },
      "execution_count": null,
      "outputs": []
    }
  ]
}